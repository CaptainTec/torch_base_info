{
 "cells": [
  {
   "cell_type": "markdown",
   "metadata": {},
   "source": [
    "## 8. 优化器 Optim\n",
    "\n",
    "优化器通俗来说就是一种计算导数的算法。\n",
    "<br/>\n",
    "<br/>\n",
    "**各种优化器的目的和创造它们的初衷其实就是能够让用户选择一种适合自己场景的优化器。优化器最主要的衡量指标就是优化曲线的平稳度，最好的优化器就是每一轮样本数据的优化都让权重参数匀速的接近目标值，而不是忽上忽下条约的变化。**\n",
    "<br/>\n",
    "<br/>\n",
    "因此，损失值的平稳下降对于一个深度学习模型来说是一个非常重要的衡量指标。\n",
    "\n",
    "PyTorch的优化器都位于`torch.optim`类中。常见的优化器有：<br/><br/>\n",
    "**SGD**<br/><br/>\n",
    "**Adam**<br/><br/>\n",
    "**Adadelta**<br/><br/>\n",
    "**Adagrad**<br/><br/>\n",
    "**Adamax 等**<br/><br/>\n",
    "PyTorch还提供了定制优化器的接口，这里不去深究。\n",
    "\n",
    "### 8.1 SGD\n",
    "即 stochastic gradient descent - 随机梯度下降。随机的意思是随机选取部分数据集参与计算，是梯度下降的batch版本。\n",
    "\n",
    "SGD支持动量参数，支持学习率衰减。SGD也是最常见的一种优化器，实现简单，容易理解。\n",
    "\n",
    "\n",
    "用法：\n",
    "```python\n",
    "import torch.optim as optim\n",
    "optimizer = optim.SGD(model.parameters(), lr=0.01, momentum=0.9)\n",
    "```\n",
    "对于训练数据集，我们首先将其分为n个batch，每个batch包含m个样本。每次仅用一个batch的数据更新参数，而非整个训练数据集。\n",
    "\n",
    "即：\n",
    "\n",
    "$$\n",
    "x_{t+1} = x_t + \\Delta x_t = x_t + (-\\eta g_t)\n",
    "$$\n",
    "其中，$\\eta$ 为学习率，$g_t$ 为 $x$ 在 $t$ 时刻的梯度\n",
    "\n",
    "\n",
    "这么做的好处在于：\n",
    "- 当训练数据太多时，利用整个数据集更新参数往往时间上不现实。batch的方法可以减少机器的压力，并且可以更快地收敛。\n",
    "- 当训练集有很多冗余时（类似的样本出现多次），batch方法收敛更快。\n",
    "  - 以一个极端情况为例，若训练集前一半和后一半梯度相同，如果前一半作为一个batch，后一半作为一个batch，那么在一次遍历训练集时，batch的方法向最优解前进两个step，而整体的方法只前进了一个step。"
   ]
  },
  {
   "cell_type": "code",
   "execution_count": 2,
   "metadata": {},
   "outputs": [],
   "source": [
    "import torch.optim as optim\n",
    "\n",
    "# optimizer = optim.SGD(model.params(), lr=0.01, momentum=0.9)"
   ]
  },
  {
   "cell_type": "markdown",
   "metadata": {},
   "source": [
    "### 8.2 RMSProp\n",
    "RMSProp通过引入一个衰减系数，让 `r` 每回合都衰减一定的比例，类似与Momentum中的做法。该优化器通常是面对递归神经网络时的一个良好选择。\n",
    "```python\n",
    "class RMSprop(Optimizer):\n",
    "    \"\"\"\n",
    "    Arguments:\n",
    "        params (iterable): iterable of parameters to optimize or dicts defining\n",
    "            parameter groups\n",
    "        lr (float, optional): learning rate (default: 1e-2)\n",
    "        momentum (float, optional): momentum factor (default: 0)\n",
    "        alpha (float, optional): smoothing constant (default: 0.99)  平滑系数\n",
    "        eps (float, optional): term added to the denominator to improve\n",
    "            numerical stability (default: 1e-8) 增加数值稳定性\n",
    "        centered (bool, optional) : if ``True``, compute the centered RMSProp,\n",
    "            the gradient is normalized by an estimation of its variance\n",
    "        weight_decay (float, optional): weight decay (L2 penalty) (default: 0)\n",
    "\n",
    "    \"\"\"\n",
    "\n",
    "    def __init__(self, params, lr=1e-2, alpha=0.99, eps=1e-8, weight_decay=0, momentum=0, centered=False):\n",
    "```\n",
    "\n",
    "RMSprop 是由 Geoff Hinton 在他 Coursera 课程中提出的一种适应性学习率方法，至今仍未被公开发表。前面我们提到了 Adagrad 算法有一个问题，就是学习率分母上的变量 s 不断被累加增大，最后会导致学习率除以一个比较大的数之后变得非常小，这不利于我们找到最后的最优解，所以 RMSProp 的提出就是为了解决这个问题。\n",
    "\n",
    "#### 8.2.1 详情\n",
    "RMSProp 仍然会使用梯度的平方量，不同于 Adagrad，其会使用一个指数加权移动平均来计算这个 s，也就是\n",
    "\n",
    "$$\n",
    "s_i = \\alpha s_{i-1} + (1-\\alpha)g^2\n",
    "$$\n",
    "\n",
    "这里 g 表示当前求出的参数梯度，然后最终更新和 Adagrad 是一样的，学习率变成了\n",
    "\n",
    "$$\n",
    "\\frac{\\eta}{\\sqrt{s+\\epsilon}} \n",
    "$$\n",
    "\n",
    "这里 $\\alpha$ 是一个移动平均的系数，也是因为这个系数，导致了 `RMSProp` 和 `Adagrad` 不同的地方，这个系数使得 `RMSProp` 更新到后期累加的梯度平方较小，从而保证` s `不会太大，也就使得模型后期依然能够找到比较优的结果\n",
    "\n",
    "实现上和` Adagrad `非常像\n",
    "\n",
    "[Reference](https://github.com/L1aoXingyu/code-of-learn-deep-learning-with-pytorch/blob/master/chapter3_NN/optimizer/rmsprop.ipynb)"
   ]
  },
  {
   "cell_type": "markdown",
   "metadata": {},
   "source": [
    "#### 8.2.2 实战"
   ]
  },
  {
   "cell_type": "code",
   "execution_count": 3,
   "metadata": {},
   "outputs": [],
   "source": [
    "# 自定义实现RMSProp\n",
    "def rmsprop(parameters, sqrs, lr, alpha):\n",
    "    \"\"\"\n",
    "    alpha: 平滑系数\n",
    "    eps: 数值稳定性系数, 加在分母上\n",
    "    \"\"\"\n",
    "    eps = 1e-10\n",
    "    for param, sqr in zip(parameters, sqrs):\n",
    "        sqr[:] = alpha * sqr + (1 - alpha) * param.grad.data ** 2\n",
    "        div = lr / torch.sqrt(sqr + eps) * param.grad.data\n",
    "        param.data = param.data - div"
   ]
  },
  {
   "cell_type": "code",
   "execution_count": 4,
   "metadata": {},
   "outputs": [],
   "source": [
    "import numpy as np\n",
    "import torch\n",
    "from torchvision.datasets import MNIST # 导入 pytorch 内置的 mnist 数据\n",
    "from torch.utils.data import DataLoader\n",
    "from torch import nn\n",
    "# from torch.autograd import Variable\n",
    "import time\n",
    "import matplotlib.pyplot as plt\n",
    "%matplotlib inline\n",
    "\n",
    "def data_tf(x):\n",
    "    x = np.array(x, dtype='float32') / 255\n",
    "    x = (x - 0.5) / 0.5 # 标准化，这个技巧之后会讲到\n",
    "    x = x.reshape((-1,)) # 打平\n",
    "    x = torch.from_numpy(x)\n",
    "    return x\n",
    "\n",
    "train_set = MNIST('./data', train=True, transform=data_tf, download=True) # 载入数据集，申明定义的数据变换\n",
    "test_set = MNIST('./data', train=False, transform=data_tf, download=True)\n",
    "\n",
    "# 定义 loss 函数\n",
    "criterion = nn.CrossEntropyLoss()"
   ]
  },
  {
   "cell_type": "code",
   "execution_count": 5,
   "metadata": {},
   "outputs": [],
   "source": [
    "# 数据加载器，结合了数据集和取样器，并且可以提供多个线程处理数据集。\n",
    "# 在训练模型时使用到此函数，用来把训练数据分成多个小组，此函数每次抛出一组数据。直至把所有的数据都抛出。\n",
    "train_data = DataLoader(train_set, batch_size=64, shuffle=True)"
   ]
  },
  {
   "cell_type": "code",
   "execution_count": 6,
   "metadata": {},
   "outputs": [
    {
     "name": "stdout",
     "output_type": "stream",
     "text": [
      "torch.Size([64, 784]) torch.Size([64])\n",
      "torch.Size([784])\n"
     ]
    }
   ],
   "source": [
    "for im, data in train_data:\n",
    "    print(im.shape, data.shape)\n",
    "    print(im[0][:].shape)\n",
    "    break"
   ]
  },
  {
   "cell_type": "code",
   "execution_count": 7,
   "metadata": {},
   "outputs": [],
   "source": [
    "# 使用 Sequential 定义 3 层神经网络\n",
    "net = nn.Sequential(\n",
    "    nn.Linear(784, 200),\n",
    "    nn.ReLU(),\n",
    "    nn.Linear(200, 10),\n",
    ")"
   ]
  },
  {
   "cell_type": "code",
   "execution_count": 8,
   "metadata": {},
   "outputs": [],
   "source": [
    "# 初始化梯度平方项\n",
    "sqrs = []\n",
    "for param in net.parameters():\n",
    "    sqrs.append(torch.zeros_like(param.data))"
   ]
  },
  {
   "cell_type": "code",
   "execution_count": 9,
   "metadata": {},
   "outputs": [
    {
     "name": "stdout",
     "output_type": "stream",
     "text": [
      "epoch: 0, Train Loss: 0.377792\n",
      "epoch: 1, Train Loss: 0.170047\n",
      "epoch: 2, Train Loss: 0.125919\n",
      "epoch: 3, Train Loss: 0.104209\n",
      "epoch: 4, Train Loss: 0.090684\n",
      "使用时间: 32.65840 s\n"
     ]
    }
   ],
   "source": [
    "# 开始训练\n",
    "losses = []\n",
    "idx = 0\n",
    "start = time.time() # 记时开始\n",
    "for e in range(5):\n",
    "    train_loss = 0\n",
    "    for im, label in train_data:\n",
    "        # im = Variable(im)\n",
    "        # label = Variable(label)\n",
    "        # 前向传播\n",
    "        out = net(im)\n",
    "        loss = criterion(out, label)\n",
    "        # 反向传播\n",
    "        net.zero_grad()\n",
    "        loss.backward()\n",
    "        rmsprop(net.parameters(), sqrs, 1e-3, 0.9) # 学习率设为 0.001，alpha 设为 0.9   # 参数更新\n",
    "        # 记录误差\n",
    "        train_loss += loss.item()\n",
    "        if idx % 30 == 0:  # 这里统计loss 是为了下面作图用\n",
    "            losses.append(loss.item())\n",
    "        idx += 1\n",
    "    print('epoch: {}, Train Loss: {:.6f}'.format(e, train_loss / len(train_data)))  # len(train_data)为总batch数=938\n",
    "end = time.time() # 计时结束\n",
    "print('使用时间: {:.5f} s'.format(end - start))"
   ]
  },
  {
   "cell_type": "code",
   "execution_count": 10,
   "metadata": {},
   "outputs": [
    {
     "data": {
      "text/plain": [
       "<matplotlib.legend.Legend at 0x11dbe05c0>"
      ]
     },
     "execution_count": 10,
     "metadata": {},
     "output_type": "execute_result"
    },
    {
     "data": {
      "image/png": "[encoded data removed]",
      "text/plain": [
       "<Figure size 432x288 with 1 Axes>"
      ]
     },
     "metadata": {
      "needs_background": "light"
     },
     "output_type": "display_data"
    }
   ],
   "source": [
    "# np.linspace(start, stop, num, endpoint=True) 主要用来创建等差数列\n",
    "# 下面表示将[0, 5]区间分成len(losses)份，endpoint=True表示包含end, 即左闭右闭\n",
    "x_axis = np.linspace(0, 5, len(losses), endpoint=True)\n",
    "plt.semilogy(x_axis, losses, label='alpha=0.9')\n",
    "plt.legend(loc='best')  # plt.legend（）函数主要的作用就是给图加上图例"
   ]
  },
  {
   "cell_type": "markdown",
   "metadata": {},
   "source": [
    "### 附加：plt.legend() 函数主要的作用就是给图加上图例\n",
    "可自行注释plt.legend() 行查看效果"
   ]
  },
  {
   "cell_type": "code",
   "execution_count": 66,
   "metadata": {},
   "outputs": [
    {
     "data": {
      "image/png": "[encoded data removed]",
      "text/plain": [
       "<Figure size 432x288 with 1 Axes>"
      ]
     },
     "metadata": {
      "needs_background": "light"
     },
     "output_type": "display_data"
    }
   ],
   "source": [
    "from matplotlib import pyplot as plt\n",
    "import numpy as np\n",
    " \n",
    "train_x = np.linspace(-1, 1, 100)\n",
    "train_y_1 = 2*train_x + np.random.rand(*train_x.shape)*0.3\n",
    "train_y_2 = train_x**2+np.random.randn(*train_x.shape)*0.3\n",
    " \n",
    "plt.scatter(train_x, train_y_1, c='red', marker='v' )\n",
    "plt.scatter(train_x, train_y_2, c='blue', marker='o' )\n",
    "plt.legend([\"red\",\"Blue\"])\n",
    "plt.show()"
   ]
  },
  {
   "cell_type": "markdown",
   "metadata": {},
   "source": [
    "### 改变$\\alpha$的值, 查看loss在下降过程中的震荡程度"
   ]
  },
  {
   "cell_type": "code",
   "execution_count": 67,
   "metadata": {},
   "outputs": [
    {
     "name": "stdout",
     "output_type": "stream",
     "text": [
      "epoch: 0, Train Loss: 0.420096\n",
      "epoch: 1, Train Loss: 0.177771\n",
      "epoch: 2, Train Loss: 0.140892\n",
      "epoch: 3, Train Loss: 0.121009\n",
      "epoch: 4, Train Loss: 0.106453\n",
      "使用时间: 32.25651 s\n"
     ]
    }
   ],
   "source": [
    "train_data = DataLoader(train_set, batch_size=64, shuffle=True)\n",
    "# 使用 Sequential 定义 3 层神经网络\n",
    "net = nn.Sequential(\n",
    "    nn.Linear(784, 200),\n",
    "    nn.ReLU(),\n",
    "    nn.Linear(200, 10),\n",
    ")\n",
    "\n",
    "# 初始化梯度平方项\n",
    "sqrs = []\n",
    "for param in net.parameters():\n",
    "    sqrs.append(torch.zeros_like(param.data))\n",
    "    \n",
    "# 开始训练\n",
    "losses = []\n",
    "idx = 0\n",
    "\n",
    "start = time.time() # 记时开始\n",
    "for e in range(5):\n",
    "    train_loss = 0\n",
    "    for im, label in train_data:\n",
    "        # im = Variable(im)\n",
    "        # label = Variable(label)\n",
    "        # 前向传播\n",
    "        out = net(im)\n",
    "        loss = criterion(out, label)\n",
    "        # 反向传播\n",
    "        net.zero_grad()\n",
    "        loss.backward()\n",
    "        rmsprop(net.parameters(), sqrs, 1e-3, 0.999) # 学习率设为 0.001，alpha 设为 0.999   # 参数更新\n",
    "        # 记录误差\n",
    "        train_loss += loss.item()\n",
    "        if idx % 30 == 0:\n",
    "            losses.append(loss.item())\n",
    "        idx += 1\n",
    "    print('epoch: {}, Train Loss: {:.6f}'.format(e, train_loss / len(train_data)))\n",
    "\n",
    "end = time.time() # 计时结束\n",
    "print('使用时间: {:.5f} s'.format(end - start))"
   ]
  },
  {
   "cell_type": "code",
   "execution_count": 68,
   "metadata": {},
   "outputs": [
    {
     "data": {
      "text/plain": [
       "<matplotlib.legend.Legend at 0x13502ff60>"
      ]
     },
     "execution_count": 68,
     "metadata": {},
     "output_type": "execute_result"
    },
    {
     "data": {
      "image/png": "[encoded data removed]",
      "text/plain": [
       "<Figure size 432x288 with 1 Axes>"
      ]
     },
     "metadata": {
      "needs_background": "light"
     },
     "output_type": "display_data"
    }
   ],
   "source": [
    "x_axis = np.linspace(0, 5, len(losses), endpoint=True)\n",
    "plt.semilogy(x_axis, losses, label='alpha=0.999')\n",
    "plt.legend(loc='best')"
   ]
  },
  {
   "cell_type": "markdown",
   "metadata": {},
   "source": [
    "### 使用pytorch 内置的 rmsprop 的方法，非常简单，只需要调用 torch.optim.RMSprop() 就可以了"
   ]
  },
  {
   "cell_type": "code",
   "execution_count": 69,
   "metadata": {},
   "outputs": [
    {
     "name": "stdout",
     "output_type": "stream",
     "text": [
      "epoch: 0, Train Loss: 0.371187\n",
      "epoch: 1, Train Loss: 0.166077\n",
      "epoch: 2, Train Loss: 0.122253\n",
      "epoch: 3, Train Loss: 0.100654\n",
      "epoch: 4, Train Loss: 0.088559\n",
      "使用时间: 30.69010 s\n"
     ]
    }
   ],
   "source": [
    "train_data = DataLoader(train_set, batch_size=64, shuffle=True)\n",
    "# 使用 Sequential 定义 3 层神经网络\n",
    "net = nn.Sequential(\n",
    "    nn.Linear(784, 200),\n",
    "    nn.ReLU(),\n",
    "    nn.Linear(200, 10),\n",
    ")\n",
    "\n",
    "optimizer = torch.optim.RMSprop(net.parameters(), lr=1e-3, alpha=0.9)\n",
    "    \n",
    "# 开始训练\n",
    "\n",
    "start = time.time() # 记时开始\n",
    "for e in range(5):\n",
    "    train_loss = 0\n",
    "    for im, label in train_data:\n",
    "        # im = Variable(im)\n",
    "        # label = Variable(label)\n",
    "        # 前向传播\n",
    "        out = net(im)\n",
    "        loss = criterion(out, label)\n",
    "        # 反向传播\n",
    "        optimizer.zero_grad()\n",
    "        loss.backward()\n",
    "        optimizer.step()  # 参数更新\n",
    "        # 记录误差\n",
    "        train_loss += loss.item()\n",
    "    print('epoch: {}, Train Loss: {:.6f}'.format(e, train_loss / len(train_data)))\n",
    "\n",
    "end = time.time() # 计时结束\n",
    "print('使用时间: {:.5f} s'.format(end - start))"
   ]
  },
  {
   "cell_type": "markdown",
   "metadata": {},
   "source": [
    "### 8.3 Adagrad\n",
    "\n",
    "Adagrad可以自动变更学习率"
   ]
  },
  {
   "cell_type": "markdown",
   "metadata": {},
   "source": [
    "### 8.4 Adadelta\n",
    "\n",
    "Adagrad算法存在三个问题\n",
    "- 其学习率是单调递减的，训练后洗学习率非常小\n",
    "- 需要手工设置一个全局的初始学习率\n",
    "- 更新$x_t$时，左右两遍单位不统一"
   ]
  },
  {
   "cell_type": "markdown",
   "metadata": {},
   "source": [
    "### 8.5 Adam\n",
    "\n",
    "Adam是基于一阶梯度来优化随机目标函数的算法\n",
    "\n",
    "Adam名字来源于：Adaptive Moment Estimation 自适应矩估计，本质上是带动量的RMSProp"
   ]
  },
  {
   "cell_type": "markdown",
   "metadata": {},
   "source": [
    "### 8.6 Adamax\n",
    "\n",
    "Adamax优化器来自于Adam的论文的section7，该方法是基于无穷范数的Adam方法的变体"
   ]
  },
  {
   "cell_type": "markdown",
   "metadata": {},
   "source": [
    "## 9 线性回归\n",
    "$$\n",
    "y = wx + b\n",
    "$$\n",
    "\n",
    "假定给定一条模拟直线的点，每个点偏移这条直线很小的范围，可以用随机函数来模拟这个随机的偏移\n",
    "\n",
    "首先定义一个随机种子，基本不影响随机数的值，也可以不定义随机种子。\n",
    "\n",
    "这里用numpy 的随机函数，不用torch提供的随机函数。生成200个X和y，模拟参数$w$为0.5"
   ]
  },
  {
   "cell_type": "code",
   "execution_count": 75,
   "metadata": {},
   "outputs": [
    {
     "data": {
      "image/png": "[encoded data removed]",
      "text/plain": [
       "<Figure size 432x288 with 1 Axes>"
      ]
     },
     "metadata": {
      "needs_background": "light"
     },
     "output_type": "display_data"
    }
   ],
   "source": [
    "import torch\n",
    "import numpy as np\n",
    "from numpy import random\n",
    "import matplotlib.pyplot as plt\n",
    "\n",
    "x = np.linspace(-1, 1, 200)\n",
    "y = 0.5*x + 0.2*np.random.normal(0, 0.05, (200, ))\n",
    "plt.scatter(x, y)\n",
    "plt.show()"
   ]
  },
  {
   "cell_type": "code",
   "execution_count": 132,
   "metadata": {},
   "outputs": [],
   "source": [
    "# 转成 Tensor\n",
    "# x_ = torch.from_numpy(x)\n",
    "# y_ = torch.from_numpy(y)\n",
    "# x_.requires_grad = True\n",
    "# x_ = x_.float()\n",
    "# # x_.dtype = torch.FloatTensor()\n",
    "x_ = torch.Tensor(x.reshape(200, 1))\n",
    "y_ = torch.Tensor(y.reshape(200, 1))\n",
    "x_.requires_grad = True"
   ]
  },
  {
   "cell_type": "code",
   "execution_count": 133,
   "metadata": {},
   "outputs": [
    {
     "data": {
      "text/plain": [
       "torch.float32"
      ]
     },
     "execution_count": 133,
     "metadata": {},
     "output_type": "execute_result"
    }
   ],
   "source": [
    "x_.dtype"
   ]
  },
  {
   "cell_type": "code",
   "execution_count": 140,
   "metadata": {},
   "outputs": [
    {
     "data": {
      "text/plain": [
       "torch.Size([200, 1])"
      ]
     },
     "execution_count": 140,
     "metadata": {},
     "output_type": "execute_result"
    }
   ],
   "source": [
    "x_.shape"
   ]
  },
  {
   "cell_type": "code",
   "execution_count": 134,
   "metadata": {},
   "outputs": [],
   "source": [
    "# 1 -> 1 神经网络\n",
    "import torch.nn as nn\n",
    "model = nn.Sequential(\n",
    "    nn.Linear(1, 1)\n",
    "    )\n",
    "optimizer = torch.optim.SGD(model.parameters(), lr=0.1, momentum=0.9)\n",
    "loss_function = nn.MSELoss()"
   ]
  },
  {
   "cell_type": "code",
   "execution_count": 135,
   "metadata": {},
   "outputs": [
    {
     "data": {
      "text/plain": [
       "<bound method Module.parameters of Sequential(\n",
       "  (0): Linear(in_features=1, out_features=1, bias=True)\n",
       ")>"
      ]
     },
     "execution_count": 135,
     "metadata": {},
     "output_type": "execute_result"
    }
   ],
   "source": [
    "# 看一下模型参数\n",
    "model.parameters"
   ]
  },
  {
   "cell_type": "code",
   "execution_count": 136,
   "metadata": {},
   "outputs": [
    {
     "data": {
      "text/plain": [
       "True"
      ]
     },
     "execution_count": 136,
     "metadata": {},
     "output_type": "execute_result"
    }
   ],
   "source": [
    "x_.requires_grad"
   ]
  },
  {
   "cell_type": "code",
   "execution_count": 138,
   "metadata": {},
   "outputs": [
    {
     "name": "stdout",
     "output_type": "stream",
     "text": [
      "Train Loss: 0.000090\n"
     ]
    }
   ],
   "source": [
    "# 训练\n",
    "for _ in range(300):\n",
    "    # 前向传播\n",
    "    out = model(x_)\n",
    "    loss = loss_function(out, y_)\n",
    "    # 反向传播\n",
    "    optimizer.zero_grad()\n",
    "    loss.backward()\n",
    "    optimizer.step()\n",
    "\n",
    "print('Train Loss: {:.6f}'.format(loss.item()))"
   ]
  },
  {
   "cell_type": "markdown",
   "metadata": {},
   "source": [
    "### 绘图"
   ]
  },
  {
   "cell_type": "code",
   "execution_count": 153,
   "metadata": {},
   "outputs": [
    {
     "data": {
      "image/png": "[encoded data removed]",
      "text/plain": [
       "<Figure size 1440x432 with 1 Axes>"
      ]
     },
     "metadata": {
      "needs_background": "light"
     },
     "output_type": "display_data"
    }
   ],
   "source": [
    "plt.figure(1, figsize=(20, 6))\n",
    "plt.subplot(131)\n",
    "plt.title('model')\n",
    "plt.scatter(x_.data, y_.data)\n",
    "plt.plot(x_.data, out.data, 'r-', lw=5)\n",
    "plt.show()"
   ]
  },
  {
   "cell_type": "markdown",
   "metadata": {},
   "source": [
    "### 看一下训练好的参数值, 可以发现$w$为0.4997 非常接近真实值0.5"
   ]
  },
  {
   "cell_type": "code",
   "execution_count": 161,
   "metadata": {},
   "outputs": [
    {
     "name": "stdout",
     "output_type": "stream",
     "text": [
      "Parameter containing:\n",
      "tensor([[0.4997]], requires_grad=True)\n",
      "Parameter containing:\n",
      "tensor([0.0003], requires_grad=True)\n"
     ]
    }
   ],
   "source": [
    "for one in model.parameters():\n",
    "    print(one)"
   ]
  },
  {
   "cell_type": "markdown",
   "metadata": {},
   "source": [
    "## 10. numpy矩阵的保存\n",
    "\n",
    "在经常性读取大量的数值文件时(比如深度学习训练数据),可以考虑现将数据存储为Numpy格式,然后直接使用Numpy去读取,速度相比为转化前快很多.\n",
    "\n",
    "nm.npy 是文件名称"
   ]
  },
  {
   "cell_type": "code",
   "execution_count": 167,
   "metadata": {},
   "outputs": [
    {
     "data": {
      "text/plain": [
       "array([[1, 2],\n",
       "       [3, 4]])"
      ]
     },
     "execution_count": 167,
     "metadata": {},
     "output_type": "execute_result"
    }
   ],
   "source": [
    "import numpy as np\n",
    "\n",
    "a = np.array([[1, 2], [3, 4]])\n",
    "a"
   ]
  },
  {
   "cell_type": "code",
   "execution_count": 168,
   "metadata": {},
   "outputs": [
    {
     "data": {
      "text/plain": [
       "(2, 2)"
      ]
     },
     "execution_count": 168,
     "metadata": {},
     "output_type": "execute_result"
    }
   ],
   "source": [
    "a.shape"
   ]
  },
  {
   "cell_type": "code",
   "execution_count": 169,
   "metadata": {},
   "outputs": [],
   "source": [
    "# 保存\n",
    "np.save(\"nm.npy\", a)"
   ]
  },
  {
   "cell_type": "code",
   "execution_count": 170,
   "metadata": {},
   "outputs": [
    {
     "data": {
      "text/plain": [
       "array([[1, 2],\n",
       "       [3, 4]])"
      ]
     },
     "execution_count": 170,
     "metadata": {},
     "output_type": "execute_result"
    }
   ],
   "source": [
    "# load\n",
    "aa = np.load(\"nm.npy\")\n",
    "aa"
   ]
  },
  {
   "cell_type": "markdown",
   "metadata": {},
   "source": [
    "## 11. 模型的保存和导入\n",
    "\n",
    "每次定义和训练一个模型都要花费较长的时间，我们希望有一种方式可以讲训练好的模型和参数保存下来，下一次使用的时候直接导入模型和参数，就跟一个已经训练好的神经网络模型一样。\n",
    "\n",
    "PyTorch提供了保存和导入方法。\n",
    "\n",
    "### 11.1 模型保存\n",
    "```python\n",
    "# 保存整个神经网络的结构和模型参数\n",
    "torch.save(model, 'my_model.pkl')\n",
    "# 只保存神经网络的模型参数\n",
    "torch.save(model.state_dict(), 'my_model_params.pkl')\n",
    "\n",
    "```\n",
    "\n",
    "### 11.2 导入模型\n",
    "```python\n",
    "model = torch.load('my_model.pkl')\n",
    "```"
   ]
  }
 ],
 "metadata": {
  "kernelspec": {
   "display_name": "Python 3",
   "language": "python",
   "name": "python3"
  },
  "language_info": {
   "codemirror_mode": {
    "name": "ipython",
    "version": 3
   },
   "file_extension": ".py",
   "mimetype": "text/x-python",
   "name": "python",
   "nbconvert_exporter": "python",
   "pygments_lexer": "ipython3",
   "version": "3.7.3"
  }
 },
 "nbformat": 4,
 "nbformat_minor": 2
}
