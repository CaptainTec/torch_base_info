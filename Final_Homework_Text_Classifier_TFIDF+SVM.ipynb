{
 "cells": [
  {
   "cell_type": "markdown",
   "metadata": {},
   "source": [
    "**Baseline   ----------    AUC  Score约为0.93+**"
   ]
  },
  {
   "cell_type": "code",
   "execution_count": 2,
   "metadata": {},
   "outputs": [],
   "source": [
    "import sklearn\n",
    "import numpy as np\n",
    "import pandas as pd\n",
    "import csv\n",
    "from sklearn import metrics\n",
    "from sklearn.feature_extraction.text import TfidfVectorizer\n",
    "from sklearn.linear_model import SGDClassifier\n",
    "from sklearn.svm import LinearSVC\n",
    "from sklearn.utils.extmath import density\n",
    "from sklearn import feature_extraction\n",
    "from sklearn.feature_extraction.text import CountVectorizer \n",
    "from sklearn.model_selection import train_test_split"
   ]
  },
  {
   "cell_type": "markdown",
   "metadata": {},
   "source": [
    "### 读取数据\n",
    "\n",
    "简单对原始数据整理成了csv文件。\n",
    "\n",
    "Kaggle竞赛的数据一般有train、test和sample_submission。"
   ]
  },
  {
   "cell_type": "code",
   "execution_count": 3,
   "metadata": {},
   "outputs": [],
   "source": [
    "train = pd.read_csv('./data/Comments/train.csv')\n",
    "test = pd.read_csv('./data/Comments/test.csv')\n",
    "sample_submission = pd.read_csv('./data/Comments/sample_submission.csv')\n",
    "\n",
    "labels = []"
   ]
  },
  {
   "cell_type": "code",
   "execution_count": 4,
   "metadata": {},
   "outputs": [
    {
     "data": {
      "text/html": [
       "<div>\n",
       "<style scoped>\n",
       "    .dataframe tbody tr th:only-of-type {\n",
       "        vertical-align: middle;\n",
       "    }\n",
       "\n",
       "    .dataframe tbody tr th {\n",
       "        vertical-align: top;\n",
       "    }\n",
       "\n",
       "    .dataframe thead th {\n",
       "        text-align: right;\n",
       "    }\n",
       "</style>\n",
       "<table border=\"1\" class=\"dataframe\">\n",
       "  <thead>\n",
       "    <tr style=\"text-align: right;\">\n",
       "      <th></th>\n",
       "      <th>label</th>\n",
       "      <th>text</th>\n",
       "    </tr>\n",
       "  </thead>\n",
       "  <tbody>\n",
       "    <tr>\n",
       "      <th>0</th>\n",
       "      <td>0</td>\n",
       "      <td>酸菜鱼不错</td>\n",
       "    </tr>\n",
       "    <tr>\n",
       "      <th>1</th>\n",
       "      <td>0</td>\n",
       "      <td>轻食素食都是友善的饮食方式</td>\n",
       "    </tr>\n",
       "    <tr>\n",
       "      <th>2</th>\n",
       "      <td>0</td>\n",
       "      <td>完爆中午吃的农家乐</td>\n",
       "    </tr>\n",
       "    <tr>\n",
       "      <th>3</th>\n",
       "      <td>1</td>\n",
       "      <td>烤鱼很入味</td>\n",
       "    </tr>\n",
       "    <tr>\n",
       "      <th>4</th>\n",
       "      <td>0</td>\n",
       "      <td>有种入口即化的感觉</td>\n",
       "    </tr>\n",
       "  </tbody>\n",
       "</table>\n",
       "</div>"
      ],
      "text/plain": [
       "   label           text\n",
       "0      0          酸菜鱼不错\n",
       "1      0  轻食素食都是友善的饮食方式\n",
       "2      0      完爆中午吃的农家乐\n",
       "3      1          烤鱼很入味\n",
       "4      0      有种入口即化的感觉"
      ]
     },
     "execution_count": 4,
     "metadata": {},
     "output_type": "execute_result"
    }
   ],
   "source": [
    "train.head()"
   ]
  },
  {
   "cell_type": "code",
   "execution_count": 5,
   "metadata": {},
   "outputs": [
    {
     "data": {
      "text/html": [
       "<div>\n",
       "<style scoped>\n",
       "    .dataframe tbody tr th:only-of-type {\n",
       "        vertical-align: middle;\n",
       "    }\n",
       "\n",
       "    .dataframe tbody tr th {\n",
       "        vertical-align: top;\n",
       "    }\n",
       "\n",
       "    .dataframe thead th {\n",
       "        text-align: right;\n",
       "    }\n",
       "</style>\n",
       "<table border=\"1\" class=\"dataframe\">\n",
       "  <thead>\n",
       "    <tr style=\"text-align: right;\">\n",
       "      <th></th>\n",
       "      <th>text</th>\n",
       "    </tr>\n",
       "  </thead>\n",
       "  <tbody>\n",
       "    <tr>\n",
       "      <th>0</th>\n",
       "      <td>理由很简单</td>\n",
       "    </tr>\n",
       "    <tr>\n",
       "      <th>1</th>\n",
       "      <td>蘸着花生酱吃非常美味</td>\n",
       "    </tr>\n",
       "    <tr>\n",
       "      <th>2</th>\n",
       "      <td>味道奶香味恰到好处</td>\n",
       "    </tr>\n",
       "    <tr>\n",
       "      <th>3</th>\n",
       "      <td>面包片烤的恰到好处</td>\n",
       "    </tr>\n",
       "    <tr>\n",
       "      <th>4</th>\n",
       "      <td>属于简单经济型</td>\n",
       "    </tr>\n",
       "  </tbody>\n",
       "</table>\n",
       "</div>"
      ],
      "text/plain": [
       "         text\n",
       "0       理由很简单\n",
       "1  蘸着花生酱吃非常美味\n",
       "2   味道奶香味恰到好处\n",
       "3   面包片烤的恰到好处\n",
       "4     属于简单经济型"
      ]
     },
     "execution_count": 5,
     "metadata": {},
     "output_type": "execute_result"
    }
   ],
   "source": [
    "test.head()"
   ]
  },
  {
   "cell_type": "markdown",
   "metadata": {},
   "source": [
    "### 清洗数据\n",
    "\n",
    "机器学习工作中广为流传的一句话：“**数据决定机器学习的上限，算法让我们不断逼近这个上限**”。\n",
    "\n",
    "一个干净的数据集是我们在运用机器学习算法取得成功的关键，因此，对文本进行合适的处理是非常关键的一步。\n",
    "\n",
    "主要工作：\n",
    "- 分词\n",
    "- 去除停用词"
   ]
  },
  {
   "cell_type": "code",
   "execution_count": 6,
   "metadata": {},
   "outputs": [
    {
     "name": "stderr",
     "output_type": "stream",
     "text": [
      "Building prefix dict from the default dictionary ...\n",
      "Dumping model to file cache /var/folders/ml/gyc9l97n0cq3pfrr93x8xmy80000gn/T/jieba.cache\n",
      "Loading model cost 0.817 seconds.\n",
      "Prefix dict has been built successfully.\n"
     ]
    }
   ],
   "source": [
    "import jieba\n",
    "\n",
    "stop_words = {}\n",
    "with open('./data/Comments/stop_words.txt', 'r', encoding='utf-8') as f:\n",
    "    lines = f.readlines()\n",
    "    for line in lines:\n",
    "        stop_words[line.strip()] = True\n",
    "\n",
    "corpus_train = []\n",
    "for one in train['text']:\n",
    "    mid = []\n",
    "    for ele in list(jieba.cut(one, cut_all=False, HMM=True)):\n",
    "        if ele not in stop_words:\n",
    "            mid.append(ele)\n",
    "    corpus_train.append(' '.join(mid))\n",
    "    \n",
    "corpus_test = []\n",
    "for one in test['text']:\n",
    "    mid = []\n",
    "    for ele in list(jieba.cut(one, cut_all=False, HMM=True)):\n",
    "        if ele not in stop_words:\n",
    "            mid.append(ele)\n",
    "    corpus_test.append(' '.join(mid))"
   ]
  },
  {
   "cell_type": "markdown",
   "metadata": {},
   "source": [
    "# TfidfTransformer\n",
    "\n",
    "\n",
    "TfidfTransformer用于统计vectorizer中每个词语的TF-IDF值。\n",
    "\n",
    "sklearn的计算过程有两点要注意：\n",
    "- sklean计算对数log时，底数是e，不是10\n",
    "- 参数smooth_idf默认值为True，若改为False，则计算方法略有不同，导致结果也有所差异。\n",
    "\n",
    "\n",
    "实际计算会进行l2正则化，详细见文档[https://scikit-learn.org/stable/modules/feature_extraction.html#text-feature-extraction](https://scikit-learn.org/stable/modules/feature_extraction.html#text-feature-extraction)"
   ]
  },
  {
   "cell_type": "code",
   "execution_count": 7,
   "metadata": {},
   "outputs": [],
   "source": [
    "# 提取TF-IDF特征\n",
    "\n",
    "text_vector = TfidfVectorizer(sublinear_tf=True, strip_accents='unicode',token_pattern=r'\\w{1,}',\n",
    "                         max_features=5000, ngram_range=(1, 1), analyzer='word')\n",
    "text_vector.fit(corpus_train + corpus_test)\n",
    "train_vec = text_vector.transform(corpus_train)\n",
    "test_vec = text_vector.transform(corpus_test)"
   ]
  },
  {
   "cell_type": "code",
   "execution_count": 8,
   "metadata": {},
   "outputs": [],
   "source": [
    "x_train, x_valid, y_train, y_valid = train_test_split(train_vec, train['label'], test_size=0.1, random_state=2020)\n",
    "x_test = test_vec"
   ]
  },
  {
   "cell_type": "markdown",
   "metadata": {},
   "source": [
    "# K折交叉验证\n",
    "\n",
    "`class sklearn.model_selection.KFold(n_splits=5, shuffle=False, random_state=None)`\n",
    "\n",
    "- n_folds为分为多少个交叉验证集, 默认5折\n",
    "- shuffle为是否随机\n",
    "- random_state设置随机因子"
   ]
  },
  {
   "cell_type": "code",
   "execution_count": 11,
   "metadata": {},
   "outputs": [
    {
     "name": "stdout",
     "output_type": "stream",
     "text": [
      "********** k = 1\n",
      "train score is 0.956015625, valid score is 0.8671875\n",
      "********** k = 2\n",
      "train score is 0.952890625, valid score is 0.8684375\n",
      "********** k = 3\n",
      "train score is 0.953984375, valid score is 0.8734375\n",
      "********** k = 4\n",
      "train score is 0.95421875, valid score is 0.8709375\n",
      "********** k = 5\n",
      "train score is 0.953359375, valid score is 0.8709375\n",
      "Total cv accuracy is 0.8701874999999999\n"
     ]
    }
   ],
   "source": [
    "# 5折交叉验证\n",
    "from sklearn.metrics import accuracy_score\n",
    "from sklearn.model_selection import KFold\n",
    "from sklearn.svm import SVC\n",
    "\n",
    "kf = KFold(n_splits=5)\n",
    "\n",
    "accuracy = []\n",
    "cnt = 0\n",
    "\n",
    "clf = SVC(probability=True)\n",
    "for train_index, test_index in kf.split(X=train_vec, y=train['label']):\n",
    "    cnt += 1\n",
    "    print('*'*10, 'k =', cnt)\n",
    "    X_train, X_valid = train_vec[train_index], train_vec[test_index]\n",
    "    y_train, y_valid = train['label'][train_index], train['label'][test_index]\n",
    "    \n",
    "    clf.fit(X_train, y_train)\n",
    "    # y_pre = clf.predict_proba(x_valid)\n",
    "    y_pre = clf.predict(X_valid)\n",
    "    # print(y_pre[:10, 1])\n",
    "    # print(y_p[:10])\n",
    "\n",
    "    train_scores = clf.score(X_train, y_train)\n",
    "    valid_scores = accuracy_score(y_pre, y_valid)\n",
    "    print(\"train score is {}, valid score is {}\".format(train_scores, valid_scores))\n",
    "    accuracy.append(valid_scores)\n",
    "\n",
    "print(\"Total cv accuracy is {}\".format(np.mean(accuracy)))"
   ]
  },
  {
   "cell_type": "code",
   "execution_count": 12,
   "metadata": {},
   "outputs": [],
   "source": [
    "# test data\n",
    "pred_proba = clf.predict_proba(x_test)[:, 1]\n",
    "sample_submission['Prediction'] = pred_proba"
   ]
  },
  {
   "cell_type": "code",
   "execution_count": 13,
   "metadata": {},
   "outputs": [],
   "source": [
    "res_file = './data/Comments/SVC_submission_kfold=5.csv'\n",
    "sample_submission.to_csv(res_file, encoding='utf-8', index=False)"
   ]
  },
  {
   "cell_type": "markdown",
   "metadata": {},
   "source": [
    "# 可以做文本分类的可选分类器\n",
    "\n",
    "```python\n",
    "results = []\n",
    "for clf, name in (\n",
    "        (RidgeClassifier(tol=1e-2, solver=\"lsqr\"), \"Ridge Classifier\"),\n",
    "        (Perceptron(n_iter=50), \"Perceptron\"),\n",
    "        (PassiveAggressiveClassifier(n_iter=50), \"Passive-Aggressive\"),\n",
    "        (KNeighborsClassifier(n_neighbors=10), \"kNN\"),\n",
    "        (RandomForestClassifier(n_estimators=100), \"Random forest\")\n",
    "):\n",
    "    print('=' * 80)\n",
    "    benchmark(clf)\n",
    "```"
   ]
  }
 ],
 "metadata": {
  "kernelspec": {
   "display_name": "Python 3",
   "language": "python",
   "name": "python3"
  },
  "language_info": {
   "codemirror_mode": {
    "name": "ipython",
    "version": 3
   },
   "file_extension": ".py",
   "mimetype": "text/x-python",
   "name": "python",
   "nbconvert_exporter": "python",
   "pygments_lexer": "ipython3",
   "version": "3.7.3"
  }
 },
 "nbformat": 4,
 "nbformat_minor": 2
}
