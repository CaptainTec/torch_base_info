{
 "cells": [
  {
   "cell_type": "markdown",
   "metadata": {},
   "source": [
    "# 线性回归\n",
    "主要内容包括：\n",
    "\n",
    "1. 线性回归的基本要素\n",
    "2. 线性回归模型从零开始的实现\n",
    "3. 线性回归模型使用pytorch的简洁实现"
   ]
  },
  {
   "cell_type": "markdown",
   "metadata": {},
   "source": [
    "## 线性回归的基本要素\n",
    "\n",
    "### 模型\n",
    "为了简单起见，这里我们假设价格只取决于房屋状况的两个因素，即面积（平方米）和房龄（年）。接下来我们希望探索价格与这两个因素的具体关系。线性回归假设输出与各个输入之间是线性关系:\n",
    "\n",
    "\n",
    "$$\n",
    "\\mathrm{price} = w_{\\mathrm{area}} \\cdot \\mathrm{area} + w_{\\mathrm{age}} \\cdot \\mathrm{age} + b\n",
    "$$\n",
    "\n",
    "\n",
    "\n",
    "### 数据集\n",
    "我们通常收集一系列的真实数据，例如多栋房屋的真实售出价格和它们对应的面积和房龄。我们希望在这个数据上面寻找模型参数来使模型的预测价格与真实价格的误差最小。在机器学习术语里，该数据集被称为训练数据集（training data set）或训练集（training set），一栋房屋被称为一个样本（sample），其真实售出价格叫作标签（label），用来预测标签的两个因素叫作特征（feature）。特征用来表征样本的特点。\n",
    "### 损失函数\n",
    "在模型训练中，我们需要衡量价格预测值与真实值之间的误差。通常我们会选取一个非负数作为误差，且数值越小表示误差越小。一个常用的选择是平方函数。 它在评估索引为 $i$ 的样本误差的表达式为\n",
    "\n",
    "\n",
    "$$\n",
    "l^{(i)}(\\mathbf{w}, b) = \\frac{1}{2} \\left(\\hat{y}^{(i)} - y^{(i)}\\right)^2,\n",
    "$$\n",
    "\n",
    "\n",
    "\n",
    "$$\n",
    "L(\\mathbf{w}, b) =\\frac{1}{n}\\sum_{i=1}^n l^{(i)}(\\mathbf{w}, b) =\\frac{1}{n} \\sum_{i=1}^n \\frac{1}{2}\\left(\\mathbf{w}^\\top \\mathbf{x}^{(i)} + b - y^{(i)}\\right)^2.\n",
    "$$\n",
    "\n",
    "\n",
    "### 优化函数 - 随机梯度下降\n",
    "当模型和损失函数形式较为简单时，上面的误差最小化问题的解可以直接用公式表达出来。这类解叫作解析解（analytical solution）。本节使用的线性回归和平方误差刚好属于这个范畴。然而，大多数深度学习模型并没有解析解，只能通过优化算法有限次迭代模型参数来尽可能降低损失函数的值。这类解叫作数值解（numerical solution）。\n",
    "\n",
    "在求数值解的优化算法中，小批量随机梯度下降（mini-batch stochastic gradient descent）在深度学习中被广泛使用。它的算法很简单：先选取一组模型参数的初始值，如随机选取；接下来对参数进行多次迭代，使每次迭代都可能降低损失函数的值。在每次迭代中，先随机均匀采样一个由固定数目训练数据样本所组成的小批量（mini-batch）$\\mathcal{B}$，然后求小批量中数据样本的平均损失有关模型参数的导数（梯度），最后用此结果与预先设定的一个正数的乘积作为模型参数在本次迭代的减小量。   \n",
    "\n",
    "$$\n",
    "(\\mathbf{w},b) \\leftarrow (\\mathbf{w},b) - \\frac{\\eta}{|\\mathcal{B}|} \\sum_{i \\in \\mathcal{B}} \\partial_{(\\mathbf{w},b)} l^{(i)}(\\mathbf{w},b)\n",
    "$$\n",
    "  \n",
    "学习率: $\\eta$代表在每次优化中，能够学习的步长的大小    \n",
    "批量大小: $\\mathcal{B}$是小批量计算中的批量大小batch size   \n",
    "\n",
    "总结一下，优化函数的有以下两个步骤：\n",
    "\n",
    "- (i)初始化模型参数，一般来说使用随机初始化；\n",
    "- (ii)我们在数据上迭代多次，通过在负梯度方向移动参数来更新每个参数。"
   ]
  },
  {
   "cell_type": "markdown",
   "metadata": {},
   "source": [
    "## 矢量计算\n",
    "在模型训练或预测时，我们常常会同时处理多个数据样本并用到矢量计算。在介绍线性回归的矢量计算表达式之前，让我们先考虑对两个向量相加的两种方法。\n",
    "\n",
    "\n",
    "1. 向量相加的一种方法是，将这两个向量按元素逐一做标量加法。\n",
    "2. 向量相加的另一种方法是，将这两个向量直接做矢量加法。"
   ]
  },
  {
   "cell_type": "code",
   "execution_count": 1,
   "metadata": {},
   "outputs": [],
   "source": [
    "import torch\n",
    "import time\n",
    "\n",
    "# init variable a, b as 1000 dimension vector\n",
    "n = 1000\n",
    "a = torch.ones(n)\n",
    "b = torch.ones(n)"
   ]
  },
  {
   "cell_type": "code",
   "execution_count": 2,
   "metadata": {},
   "outputs": [],
   "source": [
    "import torch\n",
    "import time\n",
    "\n",
    "# init variable a, b as 1000 dimension vector\n",
    "n = 1000\n",
    "a = torch.ones(n)\n",
    "b = torch.ones(n)\n",
    "# define a timer class to record time\n",
    "class Timer(object):\n",
    "    \"\"\"Record multiple running times.\"\"\"\n",
    "    def __init__(self):\n",
    "        self.times = []\n",
    "        self.start()\n",
    "\n",
    "    def start(self):\n",
    "        # start the timer\n",
    "        self.start_time = time.time()\n",
    "\n",
    "    def stop(self):\n",
    "        # stop the timer and record time into a list\n",
    "        self.times.append(time.time() - self.start_time)\n",
    "        return self.times[-1]\n",
    "\n",
    "    def avg(self):\n",
    "        # calculate the average and return\n",
    "        return sum(self.times)/len(self.times)\n",
    "\n",
    "    def sum(self):\n",
    "        # return the sum of recorded time\n",
    "        return sum(self.times)\n"
   ]
  },
  {
   "cell_type": "markdown",
   "metadata": {},
   "source": [
    "现在我们可以来测试了。首先将两个向量使用for循环按元素逐一做标量加法。"
   ]
  },
  {
   "cell_type": "code",
   "execution_count": 3,
   "metadata": {},
   "outputs": [
    {
     "data": {
      "text/plain": [
       "'0.03315 sec'"
      ]
     },
     "execution_count": 3,
     "metadata": {},
     "output_type": "execute_result"
    }
   ],
   "source": [
    "timer = Timer()\n",
    "c = torch.zeros(n)\n",
    "for i in range(n):\n",
    "    c[i] = a[i] + b[i]\n",
    "'%.5f sec' % timer.stop()"
   ]
  },
  {
   "cell_type": "markdown",
   "metadata": {},
   "source": [
    "另外是使用torch来将两个向量直接做矢量加法："
   ]
  },
  {
   "cell_type": "code",
   "execution_count": 4,
   "metadata": {},
   "outputs": [
    {
     "data": {
      "text/plain": [
       "'0.00022 sec'"
      ]
     },
     "execution_count": 4,
     "metadata": {},
     "output_type": "execute_result"
    }
   ],
   "source": [
    "timer.start()\n",
    "d = a + b\n",
    "'%.5f sec' % timer.stop()"
   ]
  },
  {
   "cell_type": "markdown",
   "metadata": {},
   "source": [
    "结果很明显,后者比前者运算速度更快。因此，我们应该尽可能采用矢量计算，以提升计算效率。\n",
    "\n",
    "## 线性回归模型从零开始的实现"
   ]
  },
  {
   "cell_type": "code",
   "execution_count": 5,
   "metadata": {},
   "outputs": [
    {
     "name": "stdout",
     "output_type": "stream",
     "text": [
      "1.3.1\n"
     ]
    }
   ],
   "source": [
    "# import packages and modules\n",
    "%matplotlib inline\n",
    "import torch\n",
    "from IPython import display\n",
    "from matplotlib import pyplot as plt\n",
    "import numpy as np\n",
    "import random\n",
    "\n",
    "print(torch.__version__)"
   ]
  },
  {
   "cell_type": "markdown",
   "metadata": {},
   "source": [
    "### 生成数据集\n",
    "使用线性模型来生成数据集，生成一个1000个样本的数据集，下面是用来生成数据的线性关系：\n",
    "\n",
    "$$\n",
    "\\mathrm{price} = w_{\\mathrm{area}} \\cdot \\mathrm{area} + w_{\\mathrm{age}} \\cdot \\mathrm{age} + b\n",
    "$$\n",
    "\n"
   ]
  },
  {
   "cell_type": "code",
   "execution_count": 6,
   "metadata": {},
   "outputs": [],
   "source": [
    "# set input feature number \n",
    "num_inputs = 2\n",
    "# set example number\n",
    "num_examples = 1000\n",
    "\n",
    "# set true weight and bias in order to generate corresponded label\n",
    "true_w = [2, -3.4]\n",
    "true_b = 4.2\n",
    "\n",
    "features = torch.randn(num_examples, num_inputs, dtype=torch.float32)\n",
    "\n",
    "labels = true_w[0] * features[:, 0] + true_w[1] * features[:, 1] + true_b\n",
    "labels += torch.tensor(np.random.normal(0, 0.01, size=labels.size()), dtype=torch.float32)  # 添加噪音"
   ]
  },
  {
   "cell_type": "code",
   "execution_count": 9,
   "metadata": {},
   "outputs": [
    {
     "data": {
      "text/plain": [
       "(torch.Size([1000, 2]), torch.Size([1000]))"
      ]
     },
     "execution_count": 9,
     "metadata": {},
     "output_type": "execute_result"
    }
   ],
   "source": [
    "features.shape, labels.shape"
   ]
  },
  {
   "cell_type": "markdown",
   "metadata": {},
   "source": [
    "### 使用图像来展示生成的数据"
   ]
  },
  {
   "cell_type": "code",
   "execution_count": 10,
   "metadata": {},
   "outputs": [
    {
     "data": {
      "image/png": "[encoded data removed]",
      "text/plain": [
       "<Figure size 432x288 with 1 Axes>"
      ]
     },
     "metadata": {
      "needs_background": "light"
     },
     "output_type": "display_data"
    }
   ],
   "source": [
    "plt.scatter(features[:, 0].numpy(), labels.numpy(), 1);  # 约是 y = 2*x + 4.2"
   ]
  },
  {
   "cell_type": "code",
   "execution_count": 11,
   "metadata": {},
   "outputs": [
    {
     "data": {
      "image/png": "[encoded data removed]",
      "text/plain": [
       "<Figure size 432x288 with 1 Axes>"
      ]
     },
     "metadata": {
      "needs_background": "light"
     },
     "output_type": "display_data"
    }
   ],
   "source": [
    "plt.scatter(features[:, 1].numpy(), labels.numpy(), 1);  # 约是 y = -3.4*x + 4.2"
   ]
  },
  {
   "cell_type": "markdown",
   "metadata": {},
   "source": [
    "### 读取数据集"
   ]
  },
  {
   "cell_type": "code",
   "execution_count": 15,
   "metadata": {},
   "outputs": [],
   "source": [
    "def data_iter(batch_size, features, labels):\n",
    "    \"\"\"\n",
    "    features: 所有参与训练的特征数据 (训练集) -- 本例中shape为 torch.Size([1000, 2]\n",
    "    labels:   所有训练集的标签 (训练集) ------- 本例中shape为 torch.Size([1000])\n",
    "    \"\"\"\n",
    "    num_examples = len(features)  # 1000\n",
    "    indices = list(range(num_examples))\n",
    "    random.shuffle(indices)  # random read 10 samples\n",
    "    for i in range(0, num_examples, batch_size):\n",
    "        # the last time may be not enough for a whole batch\n",
    "        j = torch.LongTensor(indices[i: min(i + batch_size, num_examples)])\n",
    "        yield features.index_select(dim=0, index=j), labels.index_select(dim=0, index=j)"
   ]
  },
  {
   "cell_type": "markdown",
   "metadata": {},
   "source": [
    "<font color=red size=6>\n",
    "tensor.index_select(dim, index) <br>\n",
    "</font>\n",
    "<br>\n",
    "\n",
    "<font color=red>\n",
    "dim：表示从第几维挑选数据，类型为int值；<br>\n",
    "index：表示从第一个参数维度中的哪个位置挑选数据，类型为torch.Tensor类的实例 <br>\n",
    "\n",
    "\n",
    "具体实例如下：\n",
    "</font>"
   ]
  },
  {
   "cell_type": "code",
   "execution_count": 16,
   "metadata": {},
   "outputs": [
    {
     "data": {
      "text/plain": [
       "tensor([[-0.1040,  0.9092],\n",
       "        [ 0.1228, -0.7522],\n",
       "        [-0.0401, -0.1946],\n",
       "        [-1.6273, -0.2487],\n",
       "        [ 0.1193, -1.2524],\n",
       "        [ 0.8567,  2.4284],\n",
       "        [-1.9976,  0.1058],\n",
       "        [-0.5140,  0.2455],\n",
       "        [-0.9692, -0.6059],\n",
       "        [ 0.1350,  0.3094]])"
      ]
     },
     "execution_count": 16,
     "metadata": {},
     "output_type": "execute_result"
    }
   ],
   "source": [
    "# 第0维（行）, 下标为[192, 768, 584, 201, 923, 497, 634, 355, 349,  29]的数据\n",
    "features.index_select(0, torch.tensor([192, 768, 584, 201, 923, 497, 634, 355, 349,  29]))"
   ]
  },
  {
   "cell_type": "code",
   "execution_count": 17,
   "metadata": {},
   "outputs": [
    {
     "data": {
      "text/plain": [
       "torch.Size([1000, 2])"
      ]
     },
     "execution_count": 17,
     "metadata": {},
     "output_type": "execute_result"
    }
   ],
   "source": [
    "# 第1维（列）, 下标为[0， 1]的数据。由于features只有2列, 所以下面的方式返回所有的数据\n",
    "features.index_select(1, torch.tensor([0, 1])).shape"
   ]
  },
  {
   "cell_type": "code",
   "execution_count": 18,
   "metadata": {},
   "outputs": [
    {
     "data": {
      "text/plain": [
       "torch.Size([1000, 2])"
      ]
     },
     "execution_count": 18,
     "metadata": {},
     "output_type": "execute_result"
    }
   ],
   "source": [
    "features.shape"
   ]
  },
  {
   "cell_type": "code",
   "execution_count": 19,
   "metadata": {},
   "outputs": [
    {
     "data": {
      "text/plain": [
       "torch.Size([1000])"
      ]
     },
     "execution_count": 19,
     "metadata": {},
     "output_type": "execute_result"
    }
   ],
   "source": [
    "labels.shape"
   ]
  },
  {
   "cell_type": "markdown",
   "metadata": {},
   "source": [
    "<font color=red size=6>\n",
    "tensor.index_select(dim, index) -- 再举个栗子🌰<br>\n",
    "</font>\n",
    "<br>"
   ]
  },
  {
   "cell_type": "code",
   "execution_count": 22,
   "metadata": {},
   "outputs": [
    {
     "name": "stdout",
     "output_type": "stream",
     "text": [
      "tensor([[ 1.,  2.,  3.,  4.],\n",
      "        [ 5.,  6.,  7.,  8.],\n",
      "        [ 9., 10., 11., 12.]])\n",
      "tensor([[ 1.,  2.,  3.,  4.],\n",
      "        [ 9., 10., 11., 12.]]) \n",
      "\n",
      "tensor([[ 1.,  2.,  3.,  4.],\n",
      "        [ 9., 10., 11., 12.]])\n",
      "tensor([[ 2.,  4.],\n",
      "        [ 6.,  8.],\n",
      "        [10., 12.]])\n",
      "--------------------\n"
     ]
    }
   ],
   "source": [
    "# 示例\n",
    "# torch.linspace()生成等差数列的方法, 这里表示[1,12], 生成12个数据, 再reshape\n",
    "a = torch.linspace(1, 12, steps=12).view(3, 4)\n",
    "print(a)\n",
    "b = torch.index_select(a, 0, torch.tensor([0, 2]))\n",
    "print(b, '\\n')\n",
    "print(a.index_select(0, torch.tensor([0, 2])))\n",
    "c = torch.index_select(a, 1, torch.tensor([1, 3]))\n",
    "print(c)\n",
    "\n",
    "print('--------------------')"
   ]
  },
  {
   "cell_type": "markdown",
   "metadata": {},
   "source": [
    "**正文继续, 看一下data_iter生成的第一个batch的数据**"
   ]
  },
  {
   "cell_type": "code",
   "execution_count": 23,
   "metadata": {},
   "outputs": [
    {
     "name": "stdout",
     "output_type": "stream",
     "text": [
      "tensor([[ 0.7480,  1.0902],\n",
      "        [-1.0193, -0.1061],\n",
      "        [ 0.4595,  0.8409],\n",
      "        [ 0.6601, -0.1413],\n",
      "        [-0.3796,  0.1061],\n",
      "        [ 0.6405,  0.2762],\n",
      "        [ 0.5452,  0.1098],\n",
      "        [ 0.9339, -1.8167],\n",
      "        [ 0.4751,  1.0803],\n",
      "        [-0.9177,  0.4198]]) \n",
      " tensor([ 1.9856,  2.5181,  2.2637,  6.0147,  3.0839,  4.5289,  4.9056, 12.2362,\n",
      "         1.4780,  0.9355])\n"
     ]
    }
   ],
   "source": [
    "batch_size = 10\n",
    "\n",
    "for X, y in data_iter(batch_size, features, labels):  # 这里batch_size 为10\n",
    "    print(X, '\\n', y)\n",
    "    break"
   ]
  },
  {
   "cell_type": "markdown",
   "metadata": {},
   "source": [
    "### 初始化模型参数"
   ]
  },
  {
   "cell_type": "code",
   "execution_count": 25,
   "metadata": {},
   "outputs": [
    {
     "data": {
      "text/plain": [
       "tensor([0.], requires_grad=True)"
      ]
     },
     "execution_count": 25,
     "metadata": {},
     "output_type": "execute_result"
    }
   ],
   "source": [
    "w = torch.tensor(np.random.normal(0, 0.01, size=(num_inputs, 1)), dtype=torch.float32)  # num_inputs = 2\n",
    "b = torch.zeros(1, dtype=torch.float32)\n",
    "\n",
    "# requires_grad=True 即作为参数, 可以通过SGD的方式更新\n",
    "w.requires_grad_(requires_grad=True)\n",
    "b.requires_grad_(requires_grad=True)"
   ]
  },
  {
   "cell_type": "code",
   "execution_count": 26,
   "metadata": {},
   "outputs": [
    {
     "data": {
      "text/plain": [
       "torch.Size([2, 1])"
      ]
     },
     "execution_count": 26,
     "metadata": {},
     "output_type": "execute_result"
    }
   ],
   "source": [
    "w.shape"
   ]
  },
  {
   "cell_type": "code",
   "execution_count": 29,
   "metadata": {},
   "outputs": [
    {
     "data": {
      "text/plain": [
       "tensor([[ 0.0036],\n",
       "        [-0.0067]], requires_grad=True)"
      ]
     },
     "execution_count": 29,
     "metadata": {},
     "output_type": "execute_result"
    }
   ],
   "source": [
    "w  # 注意：w的初始值是随机初始化的, 通过均值为0, 方差为0.01的正态分布 -- np.random.normal(0, 0.01, size=(num_inputs, 1)"
   ]
  },
  {
   "cell_type": "code",
   "execution_count": 32,
   "metadata": {},
   "outputs": [
    {
     "data": {
      "text/plain": [
       "tensor([0.], requires_grad=True)"
      ]
     },
     "execution_count": 32,
     "metadata": {},
     "output_type": "execute_result"
    }
   ],
   "source": [
    "b  # b随机初始化为0"
   ]
  },
  {
   "cell_type": "markdown",
   "metadata": {},
   "source": [
    "### 定义模型\n",
    "定义用来训练参数的训练模型：\n",
    "\n",
    "$$\n",
    "\\mathrm{price} = w_{\\mathrm{area}} \\cdot \\mathrm{area} + w_{\\mathrm{age}} \\cdot \\mathrm{age} + b\n",
    "$$\n",
    "\n"
   ]
  },
  {
   "cell_type": "code",
   "execution_count": 33,
   "metadata": {},
   "outputs": [],
   "source": [
    "def linreg(X, w, b):\n",
    "    return torch.mm(X, w) + b"
   ]
  },
  {
   "cell_type": "code",
   "execution_count": 57,
   "metadata": {},
   "outputs": [],
   "source": [
    "def squared_loss(y_hat, y): \n",
    "    # print(y_hat.shape, y.shape)\n",
    "    return (y_hat - y.view(y_hat.size())) ** 2 / 2\n",
    "    # return (y_hat - y.view(-1)) ** 2 / 2  # 这个不行\n",
    "    # return (y_hat.view(-1) - y) ** 2 / 2"
   ]
  },
  {
   "cell_type": "markdown",
   "metadata": {},
   "source": [
    "<font color=red>\n",
    "测试 损失函数 -- squared_loss( )\n",
    "</font>\n",
    "<br>"
   ]
  },
  {
   "cell_type": "code",
   "execution_count": 58,
   "metadata": {},
   "outputs": [],
   "source": [
    "aa = torch.tensor(np.random.normal(0, 0.01, size=(2, 3)))\n",
    "bb = torch.tensor(np.random.normal(0, 0.01, size=(2, 3)))"
   ]
  },
  {
   "cell_type": "code",
   "execution_count": 59,
   "metadata": {},
   "outputs": [
    {
     "data": {
      "text/plain": [
       "(torch.Size([2, 3]), torch.Size([2, 3]), torch.Size([6]))"
      ]
     },
     "execution_count": 59,
     "metadata": {},
     "output_type": "execute_result"
    }
   ],
   "source": [
    "aa.shape, bb.shape, aa.view(-1).shape"
   ]
  },
  {
   "cell_type": "markdown",
   "metadata": {},
   "source": [
    "<font color=red>\n",
    "若采用 (y_hat - y.view(-1)) ** 2 / 2 作为损失函数, 计算是会报错, 因为 aa.shape 为(2, 3), bb.shape为torch.Size([6]), 不能广播\n",
    "</font>\n",
    "<br>"
   ]
  },
  {
   "cell_type": "code",
   "execution_count": 60,
   "metadata": {},
   "outputs": [
    {
     "ename": "RuntimeError",
     "evalue": "The size of tensor a (3) must match the size of tensor b (6) at non-singleton dimension 1",
     "output_type": "error",
     "traceback": [
      "\u001b[0;31m---------------------------------------------------------------------------\u001b[0m",
      "\u001b[0;31mRuntimeError\u001b[0m                              Traceback (most recent call last)",
      "\u001b[0;32m<ipython-input-60-261d4de2f0b5>\u001b[0m in \u001b[0;36m<module>\u001b[0;34m\u001b[0m\n\u001b[0;32m----> 1\u001b[0;31m \u001b[0;34m(\u001b[0m\u001b[0maa\u001b[0m \u001b[0;34m-\u001b[0m \u001b[0mbb\u001b[0m\u001b[0;34m.\u001b[0m\u001b[0mview\u001b[0m\u001b[0;34m(\u001b[0m\u001b[0;34m-\u001b[0m\u001b[0;36m1\u001b[0m\u001b[0;34m)\u001b[0m\u001b[0;34m)\u001b[0m\u001b[0;34m.\u001b[0m\u001b[0mshape\u001b[0m\u001b[0;34m\u001b[0m\u001b[0;34m\u001b[0m\u001b[0m\n\u001b[0m",
      "\u001b[0;31mRuntimeError\u001b[0m: The size of tensor a (3) must match the size of tensor b (6) at non-singleton dimension 1"
     ]
    }
   ],
   "source": [
    "(aa - bb.view(-1)).shape"
   ]
  },
  {
   "cell_type": "markdown",
   "metadata": {},
   "source": [
    "<font color=red>\n",
    "即时能广播, loss的计算方法也会错误\n",
    "</font>\n",
    "<br>"
   ]
  },
  {
   "cell_type": "code",
   "execution_count": 61,
   "metadata": {},
   "outputs": [],
   "source": [
    "aa = torch.tensor(np.random.normal(0, 0.01, size=(3, 1)))\n",
    "bb = torch.tensor(np.random.normal(0, 0.01, size=(3, 1)))"
   ]
  },
  {
   "cell_type": "code",
   "execution_count": 62,
   "metadata": {},
   "outputs": [
    {
     "data": {
      "text/plain": [
       "(torch.Size([3, 1]), torch.Size([3, 1]), torch.Size([3]))"
      ]
     },
     "execution_count": 62,
     "metadata": {},
     "output_type": "execute_result"
    }
   ],
   "source": [
    "aa.shape, bb.shape, aa.view(-1).shape"
   ]
  },
  {
   "cell_type": "code",
   "execution_count": 63,
   "metadata": {},
   "outputs": [
    {
     "data": {
      "text/plain": [
       "torch.Size([3, 3])"
      ]
     },
     "execution_count": 63,
     "metadata": {},
     "output_type": "execute_result"
    }
   ],
   "source": [
    "(aa - bb.view(-1)).shape  # 若采用(y_hat - y.view(-1)) ** 2 / 2计算损失, 会发生广播。此方法计算损失是错误的"
   ]
  },
  {
   "cell_type": "markdown",
   "metadata": {},
   "source": [
    "### 定义优化函数\n",
    "在这里优化函数使用的是小批量随机梯度下降：\n",
    "\n",
    "$$\n",
    "(\\mathbf{w},b) \\leftarrow (\\mathbf{w},b) - \\frac{\\eta}{|\\mathcal{B}|} \\sum_{i \\in \\mathcal{B}} \\partial_{(\\mathbf{w},b)} l^{(i)}(\\mathbf{w},b)\n",
    "$$\n",
    "  "
   ]
  },
  {
   "cell_type": "code",
   "execution_count": 64,
   "metadata": {},
   "outputs": [],
   "source": [
    "def sgd(params, lr, batch_size):  # 随机梯度下降\n",
    "    for param in params:\n",
    "        # ues .data to operate param without gradient track -- 用.data操作参数没有梯度跟踪\n",
    "        param.data -= lr * param.grad / batch_size "
   ]
  },
  {
   "cell_type": "markdown",
   "metadata": {},
   "source": [
    "### 训练\n",
    "当数据集、模型、损失函数和优化函数定义完了之后就可来准备进行模型的训练了。\n"
   ]
  },
  {
   "cell_type": "code",
   "execution_count": 86,
   "metadata": {},
   "outputs": [
    {
     "name": "stdout",
     "output_type": "stream",
     "text": [
      "epoch 1, loss 0.000053\n",
      "epoch 2, loss 0.000053\n",
      "epoch 3, loss 0.000053\n",
      "epoch 4, loss 0.000053\n",
      "epoch 5, loss 0.000053\n",
      "epoch 6, loss 0.000053\n",
      "epoch 7, loss 0.000053\n",
      "epoch 8, loss 0.000053\n",
      "epoch 9, loss 0.000053\n",
      "epoch 10, loss 0.000053\n"
     ]
    }
   ],
   "source": [
    "# super parameters init -- 超参数初始化\n",
    "lr = 0.03\n",
    "num_epochs = 10\n",
    "\n",
    "net = linreg\n",
    "loss = squared_loss\n",
    "\n",
    "# training\n",
    "for epoch in range(num_epochs):  # training repeats num_epochs times\n",
    "    # in each epoch, all the samples in dataset will be used once\n",
    "    \n",
    "    # X is the feature and y is the label of a batch sample\n",
    "    for X, y in data_iter(batch_size, features, labels):\n",
    "        # 前向传播\n",
    "        l = loss(net(X, w, b), y).sum()\n",
    "        \n",
    "        # 后向传播\n",
    "        # reset parameter gradient\n",
    "        w.grad.data.zero_()\n",
    "        b.grad.data.zero_()\n",
    "        # calculate the gradient of batch sample loss \n",
    "        l.backward()  # 反向传播 backward() 属于torch.tensor类的一个方法\n",
    "        # using small batch random gradient descent to iter model parameters\n",
    "        sgd([w, b], lr, batch_size) # 参数更新\n",
    "        \n",
    "    train_l = loss(net(features, w, b), labels)  # 测试参数[w, b]的效果。train_l的shape为 torch.Size([1000, 1])\n",
    "    print('epoch %d, loss %f' % (epoch + 1, train_l.mean().item()))  # mean()是求均值, item()是获取tensor的值"
   ]
  },
  {
   "cell_type": "markdown",
   "metadata": {},
   "source": [
    "<font color=red>\n",
    "torch.mean().item() 返回一个值（非tensor类型, 一般是float）, 适合返回loss，acc-- 栗子🌰, 获取tensor的data值, 也可以直接用tensor.data\n",
    "</font>\n",
    "<br>"
   ]
  },
  {
   "cell_type": "code",
   "execution_count": 87,
   "metadata": {},
   "outputs": [
    {
     "data": {
      "text/plain": [
       "(torch.Size([2, 3]), tensor(3.5000), 3.5, float, tensor(3.5000), torch.Tensor)"
      ]
     },
     "execution_count": 87,
     "metadata": {},
     "output_type": "execute_result"
    }
   ],
   "source": [
    "cc = torch.tensor([[1, 2, 3], [4, 5, 6]], dtype=torch.float32)\n",
    "cc.shape, cc.mean(), cc.mean().item(), type(cc.mean().item()), cc.mean().data, type(cc.mean().data)"
   ]
  },
  {
   "cell_type": "code",
   "execution_count": 88,
   "metadata": {},
   "outputs": [
    {
     "name": "stdout",
     "output_type": "stream",
     "text": [
      "Help on method backward in module torch.tensor:\n",
      "\n",
      "backward(gradient=None, retain_graph=None, create_graph=False) method of torch.Tensor instance\n",
      "    Computes the gradient of current tensor w.r.t. graph leaves.\n",
      "    \n",
      "    The graph is differentiated using the chain rule. If the tensor is\n",
      "    non-scalar (i.e. its data has more than one element) and requires\n",
      "    gradient, the function additionally requires specifying ``gradient``.\n",
      "    It should be a tensor of matching type and location, that contains\n",
      "    the gradient of the differentiated function w.r.t. ``self``.\n",
      "    \n",
      "    This function accumulates gradients in the leaves - you might need to\n",
      "    zero them before calling it.\n",
      "    \n",
      "    Arguments:\n",
      "        gradient (Tensor or None): Gradient w.r.t. the\n",
      "            tensor. If it is a tensor, it will be automatically converted\n",
      "            to a Tensor that does not require grad unless ``create_graph`` is True.\n",
      "            None values can be specified for scalar Tensors or ones that\n",
      "            don't require grad. If a None value would be acceptable then\n",
      "            this argument is optional.\n",
      "        retain_graph (bool, optional): If ``False``, the graph used to compute\n",
      "            the grads will be freed. Note that in nearly all cases setting\n",
      "            this option to True is not needed and often can be worked around\n",
      "            in a much more efficient way. Defaults to the value of\n",
      "            ``create_graph``.\n",
      "        create_graph (bool, optional): If ``True``, graph of the derivative will\n",
      "            be constructed, allowing to compute higher order derivative\n",
      "            products. Defaults to ``False``.\n",
      "\n"
     ]
    }
   ],
   "source": [
    "help(l.backward)"
   ]
  },
  {
   "cell_type": "code",
   "execution_count": 89,
   "metadata": {},
   "outputs": [
    {
     "data": {
      "text/plain": [
       "(tensor([[ 2.0000],\n",
       "         [-3.3992]], requires_grad=True),\n",
       " [2, -3.4],\n",
       " tensor([4.2005], requires_grad=True),\n",
       " 4.2)"
      ]
     },
     "execution_count": 89,
     "metadata": {},
     "output_type": "execute_result"
    }
   ],
   "source": [
    "w, true_w, b, true_b"
   ]
  },
  {
   "cell_type": "markdown",
   "metadata": {},
   "source": [
    "<font color=red size=4>\n",
    "view( ) 方法改变tensor.shape，view(-1) 会降维\n",
    "</font>\n",
    "<br>"
   ]
  },
  {
   "cell_type": "code",
   "execution_count": 94,
   "metadata": {},
   "outputs": [
    {
     "name": "stdout",
     "output_type": "stream",
     "text": [
      "torch.Size([3]) tensor([0, 1, 2])\n",
      "torch.Size([3, 1]) tensor([[0],\n",
      "        [1],\n",
      "        [2]])\n",
      "tensor([[0, 1, 2],\n",
      "        [1, 2, 3],\n",
      "        [2, 3, 4]]) \n",
      "\n",
      "tensor([[0, 1, 2]]) torch.Size([1, 3])\n"
     ]
    }
   ],
   "source": [
    "x = torch.arange(3)\n",
    "y = torch.arange(3).view(3, 1)\n",
    "print(x.shape, x)\n",
    "print(y.shape, y)\n",
    "print(x + y, '\\n')\n",
    "print(x.view(1, 3), x.view(1, 3).shape)"
   ]
  },
  {
   "cell_type": "code",
   "execution_count": 111,
   "metadata": {},
   "outputs": [
    {
     "data": {
      "text/plain": [
       "(tensor([[1.],\n",
       "         [1.],\n",
       "         [1.],\n",
       "         [1.],\n",
       "         [1.]]), torch.Size([5, 1]))"
      ]
     },
     "execution_count": 111,
     "metadata": {},
     "output_type": "execute_result"
    }
   ],
   "source": [
    "aaa = torch.ones([5, 1])\n",
    "aaa, aaa.shape"
   ]
  },
  {
   "cell_type": "code",
   "execution_count": 116,
   "metadata": {},
   "outputs": [
    {
     "name": "stdout",
     "output_type": "stream",
     "text": [
      "tensor([[1., 1., 1., 1., 1.]]) torch.Size([1, 5]) \n",
      "----\n",
      " tensor([[1.],\n",
      "        [1.],\n",
      "        [1.],\n",
      "        [1.],\n",
      "        [1.]]) torch.Size([5, 1])\n"
     ]
    }
   ],
   "source": [
    "bbb = aaa.view(1, 5)  # aaa的shape无变化\n",
    "print(bbb, bbb.shape, '\\n----\\n',aaa, aaa.shape)"
   ]
  },
  {
   "cell_type": "code",
   "execution_count": 117,
   "metadata": {},
   "outputs": [
    {
     "data": {
      "text/plain": [
       "(tensor([[1.],\n",
       "         [1.],\n",
       "         [1.],\n",
       "         [1.],\n",
       "         [1.]]), torch.Size([5, 1]))"
      ]
     },
     "execution_count": 117,
     "metadata": {},
     "output_type": "execute_result"
    }
   ],
   "source": [
    "ccc = bbb.view(5, 1)\n",
    "ccc, ccc.shape"
   ]
  },
  {
   "cell_type": "markdown",
   "metadata": {},
   "source": [
    "<font color=red size=4>\n",
    "view(-1) 会降维\n",
    "</font>\n",
    "<br>"
   ]
  },
  {
   "cell_type": "code",
   "execution_count": 118,
   "metadata": {},
   "outputs": [
    {
     "name": "stdout",
     "output_type": "stream",
     "text": [
      "tensor([1., 1., 1., 1., 1.]) torch.Size([5]) \n",
      "----\n",
      " tensor([[1.],\n",
      "        [1.],\n",
      "        [1.],\n",
      "        [1.],\n",
      "        [1.]]) torch.Size([5, 1])\n"
     ]
    }
   ],
   "source": [
    "ddd = aaa.view(-1)\n",
    "\n",
    "print(ddd, ddd.shape, '\\n----\\n',aaa, aaa.shape)"
   ]
  },
  {
   "cell_type": "code",
   "execution_count": 119,
   "metadata": {},
   "outputs": [
    {
     "data": {
      "text/plain": [
       "(tensor([[1., 1., 1., 1., 1.]]), torch.Size([1, 5]))"
      ]
     },
     "execution_count": 119,
     "metadata": {},
     "output_type": "execute_result"
    }
   ],
   "source": [
    "eee = ddd.view(1, 5)\n",
    "eee, eee.shape"
   ]
  },
  {
   "cell_type": "markdown",
   "metadata": {},
   "source": [
    "## 线性回归模型使用pytorch的简洁实现"
   ]
  },
  {
   "cell_type": "code",
   "execution_count": 120,
   "metadata": {},
   "outputs": [
    {
     "name": "stdout",
     "output_type": "stream",
     "text": [
      "1.3.1\n"
     ]
    }
   ],
   "source": [
    "import torch\n",
    "from torch import nn\n",
    "import numpy as np\n",
    "torch.manual_seed(1)\n",
    "\n",
    "print(torch.__version__)\n",
    "torch.set_default_tensor_type('torch.FloatTensor')"
   ]
  },
  {
   "cell_type": "markdown",
   "metadata": {},
   "source": [
    "### 生成数据集\n",
    "在这里生成数据集跟从零开始的实现中是完全一样的。"
   ]
  },
  {
   "cell_type": "code",
   "execution_count": 122,
   "metadata": {},
   "outputs": [],
   "source": [
    "num_inputs = 2\n",
    "num_examples = 1000\n",
    "\n",
    "true_w = [2, -3.4]\n",
    "true_b = 4.2\n",
    "\n",
    "features = torch.tensor(np.random.normal(0, 1, (num_examples, num_inputs)), dtype=torch.float)\n",
    "labels = true_w[0] * features[:, 0] + true_w[1] * features[:, 1] + true_b\n",
    "labels += torch.tensor(np.random.normal(0, 0.01, size=labels.size()), dtype=torch.float)"
   ]
  },
  {
   "cell_type": "markdown",
   "metadata": {},
   "source": [
    "### 读取数据集"
   ]
  },
  {
   "cell_type": "code",
   "execution_count": 123,
   "metadata": {},
   "outputs": [],
   "source": [
    "import torch.utils.data as Data\n",
    "\n",
    "batch_size = 10\n",
    "\n",
    "# combine featues and labels of dataset\n",
    "dataset = Data.TensorDataset(features, labels)\n",
    "\n",
    "# put dataset into DataLoader\n",
    "data_iter = Data.DataLoader(\n",
    "    dataset=dataset,            # torch TensorDataset format\n",
    "    batch_size=batch_size,      # mini batch size\n",
    "    shuffle=True,               # whether shuffle the data or not\n",
    "    num_workers=2,              # read data in multithreading\n",
    ")"
   ]
  },
  {
   "cell_type": "markdown",
   "metadata": {},
   "source": [
    "<font color=red size=4>\n",
    "对torch.utils.data.TensorDataset 类实例 dataset 进行探索性分析\n",
    "</font>\n",
    "<br>"
   ]
  },
  {
   "cell_type": "code",
   "execution_count": 125,
   "metadata": {},
   "outputs": [
    {
     "name": "stdout",
     "output_type": "stream",
     "text": [
      "Help on TensorDataset in module torch.utils.data.dataset object:\n",
      "\n",
      "class TensorDataset(Dataset)\n",
      " |  TensorDataset(*tensors)\n",
      " |  \n",
      " |  Dataset wrapping tensors.\n",
      " |  \n",
      " |  Each sample will be retrieved by indexing tensors along the first dimension.\n",
      " |  \n",
      " |  Arguments:\n",
      " |      *tensors (Tensor): tensors that have the same size of the first dimension.\n",
      " |  \n",
      " |  Method resolution order:\n",
      " |      TensorDataset\n",
      " |      Dataset\n",
      " |      builtins.object\n",
      " |  \n",
      " |  Methods defined here:\n",
      " |  \n",
      " |  __getitem__(self, index)\n",
      " |  \n",
      " |  __init__(self, *tensors)\n",
      " |      Initialize self.  See help(type(self)) for accurate signature.\n",
      " |  \n",
      " |  __len__(self)\n",
      " |  \n",
      " |  ----------------------------------------------------------------------\n",
      " |  Methods inherited from Dataset:\n",
      " |  \n",
      " |  __add__(self, other)\n",
      " |  \n",
      " |  ----------------------------------------------------------------------\n",
      " |  Data descriptors inherited from Dataset:\n",
      " |  \n",
      " |  __dict__\n",
      " |      dictionary for instance variables (if defined)\n",
      " |  \n",
      " |  __weakref__\n",
      " |      list of weak references to the object (if defined)\n",
      "\n"
     ]
    }
   ],
   "source": [
    "help(dataset)"
   ]
  },
  {
   "cell_type": "code",
   "execution_count": 128,
   "metadata": {},
   "outputs": [
    {
     "data": {
      "text/plain": [
       "1"
      ]
     },
     "execution_count": 128,
     "metadata": {},
     "output_type": "execute_result"
    }
   ],
   "source": [
    "len(dataset.__dict__)"
   ]
  },
  {
   "cell_type": "code",
   "execution_count": 131,
   "metadata": {},
   "outputs": [
    {
     "data": {
      "text/plain": [
       "{'tensors': (tensor([[-0.4015, -2.3459],\n",
       "          [-0.3724, -0.8667],\n",
       "          [-0.6618,  0.7923],\n",
       "          ...,\n",
       "          [-0.5584,  1.0489],\n",
       "          [-0.3105, -0.9365],\n",
       "          [-0.6552,  2.3593]]),\n",
       "  tensor([ 1.1363e+01,  6.3945e+00,  1.7718e-01,  4.4055e+00,  5.0280e+00,\n",
       "           5.0803e+00,  5.2668e+00, -2.6063e-01,  7.3557e+00, -2.2097e-01,\n",
       "           2.0717e+00,  5.2229e+00,  1.2473e+01,  4.5903e+00, -3.1391e+00,\n",
       "           2.5942e+00,  1.0380e+01, -5.4329e+00, -1.1571e-01, -9.5286e-02,\n",
       "           6.9603e+00,  7.7534e+00,  7.4195e+00,  2.4173e+00, -7.4459e+00,\n",
       "          -3.0982e+00,  1.0263e+01,  1.3461e+01,  5.3830e+00,  2.2755e+00,\n",
       "           2.5909e+00,  1.5157e+00,  1.1382e+01,  7.8672e+00, -1.6795e+00,\n",
       "          -2.0625e+00,  3.1818e+00,  7.8080e+00,  1.0041e+01,  6.9196e+00,\n",
       "           6.7267e+00,  8.0879e-01,  2.1176e+00,  6.0676e+00,  8.4298e+00,\n",
       "           1.3806e+00, -1.5615e+00,  2.2692e+00, -3.6675e+00,  1.5654e+00,\n",
       "          -7.8160e-01,  1.3022e+00, -1.4316e-01,  7.3889e+00,  8.1788e+00,\n",
       "           1.7290e+00,  5.6744e+00,  1.0313e+01,  1.1898e+01,  8.0439e+00,\n",
       "           1.1339e+01,  8.6930e+00,  4.1847e+00,  2.6624e+00,  6.3240e+00,\n",
       "           1.1929e+00,  1.2412e+01,  7.6858e+00,  3.5685e+00,  3.0453e+00,\n",
       "           6.4576e+00,  7.0172e+00,  4.7778e+00,  5.6470e+00,  2.0117e+00,\n",
       "           5.2929e+00,  2.1915e+00,  4.1524e-01,  3.5483e+00,  1.1828e+01,\n",
       "           1.8614e+00,  1.6589e+00,  6.1324e+00,  6.8376e+00,  8.6684e+00,\n",
       "           7.4004e+00,  1.0646e+01,  7.9680e+00, -2.0616e+00,  4.2399e+00,\n",
       "           5.4038e+00,  8.9313e+00, -3.2992e+00, -9.0535e+00,  4.2322e+00,\n",
       "           2.5924e+00,  3.0253e+00,  4.8017e+00,  1.4550e+00, -8.0045e-02,\n",
       "          -3.7452e+00,  2.2918e+00,  1.8090e+01, -8.5383e-01,  8.0312e+00,\n",
       "           4.0955e-01, -2.8118e+00,  9.5647e+00,  4.0192e+00,  4.8352e+00,\n",
       "           1.1805e+01, -4.5470e-01,  8.0632e+00,  4.4071e-01,  7.7149e+00,\n",
       "           9.9892e+00, -1.3347e+00,  7.6376e+00, -5.7745e+00, -4.0347e+00,\n",
       "           4.0478e+00,  4.7517e+00,  5.3513e+00, -1.5376e+00,  6.4930e+00,\n",
       "           5.9484e+00,  6.0009e+00, -2.4637e+00,  6.4971e+00,  3.0255e+00,\n",
       "           4.5103e+00,  1.8484e-01,  3.5408e+00, -5.0945e+00,  4.7131e+00,\n",
       "           6.8368e+00,  3.9558e+00, -4.4882e-01, -9.0406e-01, -1.7204e+00,\n",
       "           4.9853e+00,  2.8671e+00, -4.2133e-02,  2.8723e+00, -2.2721e+00,\n",
       "           7.8273e+00,  2.4598e+00,  1.4564e+01,  6.7431e+00,  1.3450e+01,\n",
       "           3.1518e+00,  4.1505e+00,  3.8501e+00,  8.1679e+00,  8.0570e+00,\n",
       "           4.6801e+00, -1.1500e-01,  8.4652e-01,  7.8401e+00,  6.0095e+00,\n",
       "           5.9575e+00,  8.4293e+00, -1.4643e+00,  1.3520e+01,  3.7624e+00,\n",
       "           1.1323e+01,  1.1755e+01,  9.7834e+00,  9.6195e+00,  1.9078e+00,\n",
       "           8.6981e-01,  5.0977e+00,  3.2024e+00,  1.0779e+01,  3.5738e+00,\n",
       "           2.9740e+00,  6.4103e+00,  5.3054e+00,  3.7715e+00,  7.4898e+00,\n",
       "           5.4883e+00,  8.4624e+00,  7.0717e-01,  5.2270e-02,  7.7520e+00,\n",
       "          -1.7930e+00, -2.3376e+00, -8.8938e-01, -2.3925e-01,  4.2109e-01,\n",
       "           3.8375e+00,  3.2398e+00,  5.0499e+00,  1.2940e+00,  6.6956e+00,\n",
       "           3.7655e+00,  4.9014e+00,  4.3773e+00,  2.7932e+00,  1.8351e+00,\n",
       "           6.9670e+00,  2.2185e+00, -3.3660e-01, -3.7107e+00,  4.0952e+00,\n",
       "           1.6142e+00,  5.9614e+00,  3.3882e+00,  5.6142e+00, -1.9552e+00,\n",
       "           2.6308e+00,  1.8611e+00,  3.8667e+00,  2.2435e+00,  3.2271e+00,\n",
       "           5.0804e+00,  3.4823e+00,  1.3972e+00,  9.5077e+00, -3.9394e+00,\n",
       "           3.9761e+00,  3.2301e+00,  3.1286e+00,  2.6280e+00,  7.5739e+00,\n",
       "           8.6417e+00,  2.2794e+00, -2.1482e+00,  6.9872e+00,  8.9224e-01,\n",
       "           6.7198e+00,  5.7608e+00, -2.9834e+00,  1.9468e+00,  8.6283e+00,\n",
       "          -3.8540e-01,  1.2738e+00,  5.7012e+00,  3.0344e+00,  3.3658e+00,\n",
       "           3.3867e+00,  1.2039e+00,  6.2188e+00,  3.0293e+00,  9.8814e+00,\n",
       "           2.2021e+00,  5.7367e+00, -2.3828e-01,  1.6686e+00,  2.8881e-01,\n",
       "          -3.2645e+00,  7.0261e+00, -8.6813e-02,  2.2440e+00,  8.4032e+00,\n",
       "          -1.3134e+00,  3.8827e+00,  7.3374e-01,  4.9639e-01,  5.5678e+00,\n",
       "           3.2360e+00,  4.0782e+00,  4.8291e+00,  1.2530e+00,  6.4655e+00,\n",
       "           7.2906e+00,  6.3698e+00,  5.7282e+00,  6.9000e+00, -1.2228e+00,\n",
       "           4.4075e+00,  7.3597e+00,  5.3915e+00,  1.6618e+00,  7.7392e+00,\n",
       "           1.1398e+00,  9.2289e+00,  5.4918e+00,  8.8312e+00,  3.6426e+00,\n",
       "           5.4211e+00,  4.4960e-01,  2.0548e+00,  3.8624e+00,  4.6157e+00,\n",
       "           1.8072e-03,  4.6929e+00,  1.0815e+01, -5.1633e-01,  9.0515e+00,\n",
       "           4.6490e+00,  3.2127e+00,  1.0544e+01, -8.7287e-01,  2.5397e+00,\n",
       "           1.0361e+01,  1.2103e+01,  9.0863e+00,  4.7162e+00,  5.6213e+00,\n",
       "           1.1452e+01,  1.3504e+00, -1.2070e+00,  5.0947e+00,  1.9365e+00,\n",
       "           6.2336e+00,  4.4663e+00,  7.0704e+00,  6.2593e+00,  6.1419e+00,\n",
       "          -4.6992e-01,  4.7845e+00,  7.5738e+00,  1.1305e+01,  2.4427e+00,\n",
       "           1.9656e+00, -9.4800e-01,  1.5173e+00,  2.2942e+00,  8.3260e-02,\n",
       "           5.0144e+00,  7.5404e-01,  2.7560e+00,  4.7469e+00,  5.2491e+00,\n",
       "           9.4537e+00,  6.7795e+00,  1.6468e+01, -1.9222e+00, -2.0620e+00,\n",
       "           6.3435e+00,  6.3591e+00,  1.1741e+01,  7.0728e-01,  5.5161e+00,\n",
       "           1.3668e-01,  5.3742e+00,  9.3914e+00,  6.7557e+00,  5.0376e+00,\n",
       "           3.2959e+00, -1.2662e+00,  8.1241e+00,  6.1013e+00,  4.4474e+00,\n",
       "           3.0240e+00, -5.5338e+00,  6.7450e+00,  8.9345e+00,  1.0380e+01,\n",
       "           1.2380e+00,  3.9129e+00,  3.5231e+00,  4.6137e+00, -6.4681e-01,\n",
       "           1.2852e+00,  5.5656e+00,  3.2543e+00,  2.1990e+00,  8.8320e+00,\n",
       "           8.1340e+00,  1.4867e+01,  7.6272e+00,  8.1063e+00,  3.3038e+00,\n",
       "           3.0617e+00,  1.0398e+00,  1.0032e+01,  1.9278e+00,  8.6528e+00,\n",
       "          -3.8702e+00,  7.5270e+00,  2.8177e+00,  2.3175e+00, -2.6977e-01,\n",
       "           4.3544e+00, -1.4000e+00,  9.8593e+00, -1.4908e+00,  7.8347e+00,\n",
       "           2.7750e+00,  6.0113e+00,  1.6723e+00,  1.1097e+01,  6.0472e+00,\n",
       "           5.1075e+00,  1.1240e-01,  7.6097e+00,  1.1199e+00,  4.7965e+00,\n",
       "           8.3904e+00,  8.8922e+00,  3.2034e+00,  6.0976e+00,  4.3892e+00,\n",
       "           9.8560e+00,  5.1537e+00,  6.7175e+00,  8.8368e+00,  3.6427e+00,\n",
       "           7.3238e+00,  5.5164e+00,  4.9024e+00,  1.0990e+00,  1.6290e+00,\n",
       "           3.5928e+00,  1.3298e+00,  5.9729e+00,  3.1368e+00, -1.2712e-01,\n",
       "           9.9066e-01,  8.8334e+00,  3.0248e+00,  3.7227e-01, -5.3190e-01,\n",
       "           1.9316e+00,  3.4878e+00,  5.1566e+00, -2.4054e+00,  1.9937e+00,\n",
       "           3.9115e+00,  5.1986e+00, -7.1171e+00,  1.1234e+00,  4.9423e+00,\n",
       "           4.4340e+00,  1.8732e+00,  1.0289e+01,  8.5444e+00,  2.5940e+00,\n",
       "           9.3460e+00,  3.1437e+00,  2.5270e+00,  8.5671e+00,  6.2013e+00,\n",
       "           7.2599e-01,  2.7255e+00,  8.5268e+00,  3.4221e+00,  8.0743e+00,\n",
       "           3.9911e+00, -8.0456e-02,  9.0385e+00,  7.5443e+00,  6.7898e+00,\n",
       "           9.3528e+00,  4.3834e+00,  2.0095e+00,  7.4822e+00,  1.1515e+01,\n",
       "           2.1424e+00, -1.8143e-01,  7.0682e+00,  1.2067e+01,  4.2354e+00,\n",
       "          -5.8318e+00,  3.5999e-01,  8.9309e+00,  3.5293e+00,  8.2698e+00,\n",
       "           6.9821e+00,  3.3085e+00,  4.9510e+00,  2.9868e+00,  7.9401e-01,\n",
       "           5.6536e+00,  1.2041e+00,  7.9109e+00,  6.5646e+00,  6.9915e+00,\n",
       "           3.2193e+00,  3.5394e+00,  2.7214e+00, -2.4848e+00,  8.6661e+00,\n",
       "          -4.0339e+00,  1.4132e+00,  4.0840e+00,  3.8190e+00,  5.5982e+00,\n",
       "           3.3266e+00,  6.3336e+00,  4.8095e+00,  3.7803e+00,  4.7770e+00,\n",
       "           4.4798e+00,  1.6023e+00,  6.3105e+00,  4.2876e+00, -1.6578e+00,\n",
       "           8.0363e+00,  5.2170e-02,  3.5755e+00,  3.9647e-01,  2.3834e+00,\n",
       "          -1.9353e+00,  1.7456e+00,  1.5506e+00,  5.4660e+00,  6.6645e+00,\n",
       "           1.3968e+00, -1.8289e+00, -2.0947e+00,  2.0173e-01,  9.4822e+00,\n",
       "           7.7419e+00, -3.6541e+00,  7.1115e+00, -1.0503e+00, -4.5365e-01,\n",
       "           2.6952e+00,  8.9217e+00,  2.1024e+00,  1.3411e+00, -1.3979e+00,\n",
       "           6.1869e+00, -2.7002e+00, -1.2005e+00,  1.5068e+00,  1.3360e+00,\n",
       "          -5.3021e-02,  4.1881e+00,  3.1634e+00,  1.0032e+01,  1.3464e+01,\n",
       "           5.6466e+00, -2.4832e+00,  2.7555e+00,  3.7317e+00,  2.8981e+00,\n",
       "           7.1659e+00,  2.2705e+00, -3.0732e+00, -2.7581e+00,  9.3545e+00,\n",
       "           2.4350e+00,  5.5992e+00,  8.9735e+00,  5.3202e+00, -1.0072e+00,\n",
       "           1.3284e+01,  7.4546e+00,  1.1870e+00,  7.5653e+00,  1.5059e+00,\n",
       "          -7.3558e-01, -1.1875e+00, -3.4099e-01,  2.4607e+00,  4.8643e+00,\n",
       "          -6.4222e+00,  3.6325e+00,  2.2967e+00,  5.8420e+00,  6.8544e+00,\n",
       "          -5.2377e-01,  2.7433e+00,  7.8865e+00,  6.8673e+00,  5.4897e+00,\n",
       "           7.4199e+00,  8.2869e+00, -2.1269e+00,  5.1027e+00,  3.0724e-01,\n",
       "          -1.4151e+00,  3.4698e+00,  3.0062e+00,  6.0386e-01, -3.5503e+00,\n",
       "           5.5732e+00,  3.8159e+00,  2.0401e+00,  4.1207e+00,  4.7276e+00,\n",
       "          -1.2071e+00,  3.5337e+00,  4.1216e+00, -6.3349e-01, -2.2214e-01,\n",
       "           4.8728e+00,  1.0503e+01,  6.7277e+00, -2.2506e-01,  5.1607e+00,\n",
       "           3.5051e+00,  5.3378e+00,  2.5958e+00,  6.7967e+00,  2.0894e+00,\n",
       "           6.5358e+00, -1.7748e+00,  9.2608e+00,  1.1926e+00,  4.6440e+00,\n",
       "           6.2740e+00,  7.2150e+00,  1.9431e+00,  2.4178e+00,  7.3018e+00,\n",
       "           3.2786e+00,  6.9070e+00,  6.5111e+00,  3.2914e+00,  9.1264e+00,\n",
       "          -2.5410e+00, -5.3415e+00,  8.2395e+00,  4.0489e+00,  6.8824e+00,\n",
       "           6.1566e+00, -4.0804e+00,  4.8936e+00,  2.9030e+00,  9.4837e+00,\n",
       "           5.1871e+00,  5.0898e+00, -1.9955e+00,  8.9232e+00,  3.6752e+00,\n",
       "           3.8360e+00,  9.7654e+00,  7.8828e+00,  3.6180e+00,  3.2209e+00,\n",
       "          -1.8487e+00,  3.9860e+00, -5.3738e-02,  1.6978e+00,  5.5628e+00,\n",
       "           4.5581e+00,  8.2489e+00,  2.1607e+00,  3.1934e+00,  5.5049e+00,\n",
       "           6.1974e+00,  3.3024e+00,  6.8706e+00,  5.1499e+00,  6.1696e+00,\n",
       "           1.5335e+00,  5.2193e+00,  6.4280e+00,  5.9166e-01,  4.7355e+00,\n",
       "           1.7754e+00,  1.0430e+01,  1.9859e+00,  2.5670e+00,  9.6900e+00,\n",
       "           1.4141e-01,  8.1683e+00,  1.2043e+00,  8.3930e-01,  1.5342e+00,\n",
       "           1.0932e+00,  2.4570e+00,  7.9271e+00,  9.0757e+00, -2.3754e-01,\n",
       "           7.9829e+00, -3.5606e+00,  3.4420e+00, -1.0340e+00,  6.4233e+00,\n",
       "          -2.4290e+00, -3.7813e-01, -5.4632e-01, -5.0726e+00,  1.3307e-01,\n",
       "           4.8902e+00,  7.2482e+00,  4.7873e+00,  8.4599e+00,  6.5633e+00,\n",
       "           4.1117e+00,  4.7059e+00,  3.4957e+00, -2.5646e+00,  5.9775e+00,\n",
       "           5.6710e+00,  2.9680e-01,  6.8787e+00,  5.5659e-01,  3.2937e+00,\n",
       "          -2.4274e+00,  5.6977e+00,  5.6483e-01,  3.6372e+00,  1.2936e+01,\n",
       "           6.7815e+00,  6.5077e+00,  1.5611e+00,  6.6942e-01,  1.6603e+00,\n",
       "           2.7137e+00,  1.0419e+00,  2.5176e+00,  1.6900e+00,  2.9868e+00,\n",
       "           1.4731e+00,  3.9516e+00,  5.1998e-02, -1.1662e+00,  3.0950e+00,\n",
       "           6.7773e+00,  6.1713e+00,  3.8375e+00,  4.6113e+00, -1.5951e+00,\n",
       "           4.4604e+00,  3.3875e+00,  6.9355e+00,  6.7185e+00,  3.1241e+00,\n",
       "           3.8297e+00,  9.7835e+00,  6.3637e+00,  4.8508e+00,  7.6835e+00,\n",
       "           7.0800e+00, -2.5643e-01,  2.3521e-01, -5.5042e-01,  4.1913e+00,\n",
       "           2.6479e+00,  5.8383e+00,  4.0643e+00,  1.4837e+00,  7.8123e-01,\n",
       "           3.1909e+00,  1.2246e+01,  1.4887e+00,  3.9518e+00,  5.0296e+00,\n",
       "           1.8075e+00,  3.0680e+00,  1.1715e+01,  7.0339e+00,  1.1706e+00,\n",
       "          -3.5137e-01,  7.1196e+00,  2.7063e+00,  2.7634e+00,  1.8531e+00,\n",
       "           9.5060e+00,  8.6799e+00,  4.7494e+00,  5.9919e+00,  1.1172e+01,\n",
       "           4.0052e+00,  6.2274e+00,  8.3962e+00,  1.3251e+01,  6.2250e+00,\n",
       "           5.1542e+00,  3.1382e+00,  5.7491e+00,  2.2328e+00,  4.3525e+00,\n",
       "           2.3723e+00,  6.7603e+00, -3.8691e-01,  8.0308e-01,  4.9071e+00,\n",
       "           4.8755e+00,  8.9240e+00,  3.6124e-01,  6.7787e+00,  5.1634e+00,\n",
       "           1.1398e+01,  5.5093e+00,  2.1016e+00,  5.7286e-01,  6.7949e+00,\n",
       "          -4.9727e+00,  5.3199e+00,  6.8225e+00,  5.3087e+00,  5.8824e+00,\n",
       "           4.2501e+00,  3.8982e+00,  2.0662e+00,  1.0408e+01,  2.7590e+00,\n",
       "           4.6514e+00,  1.0172e+01,  4.3760e+00,  3.9572e+00,  4.3032e-01,\n",
       "          -6.6851e+00,  7.0802e+00,  7.5064e+00,  4.6667e+00,  5.1897e+00,\n",
       "           6.9065e+00,  1.1037e+01, -2.1087e+00, -6.6980e-01,  2.2547e+00,\n",
       "           6.7419e+00,  5.3162e+00,  3.4422e+00, -6.9394e-01,  1.8143e-01,\n",
       "           3.2315e+00,  9.7539e+00,  7.0304e+00,  4.4141e+00,  9.2375e+00,\n",
       "           4.5178e+00,  3.7908e+00,  6.0682e+00,  9.3850e+00,  5.8256e+00,\n",
       "           1.1385e+01,  3.7598e+00,  3.8092e+00,  8.9971e+00,  3.3885e+00,\n",
       "          -8.7595e-01,  8.4231e+00,  2.2285e+00,  2.6004e+00,  3.9920e+00,\n",
       "           8.4676e+00,  5.4900e+00,  8.2794e+00,  2.9041e+00,  2.7333e+00,\n",
       "           5.3395e+00,  1.9548e+00,  3.5666e+00, -1.1376e+00,  8.0074e+00,\n",
       "           1.8535e+00, -5.9044e-01, -2.2192e+00,  4.6788e+00,  3.4805e+00,\n",
       "           5.7793e+00,  5.6967e+00,  5.0854e+00,  7.4305e+00,  7.4447e+00,\n",
       "           4.8415e+00,  6.0206e+00,  1.0845e+01, -2.9411e+00, -6.3152e-01,\n",
       "           1.0830e+01,  7.6309e+00,  4.9371e+00,  3.7404e+00,  4.6337e+00,\n",
       "           1.3913e+00,  4.1978e+00,  4.5635e+00, -1.3308e+00,  1.4066e+00,\n",
       "           3.4678e+00,  5.3480e+00, -2.3542e+00,  3.4155e+00,  4.8257e+00,\n",
       "           1.0833e+01,  5.8016e+00,  2.2178e+00,  3.7439e+00, -1.6506e+00,\n",
       "           5.6064e+00, -2.6756e-01,  6.6962e+00,  5.2400e+00, -1.2229e+00,\n",
       "           6.6810e+00,  2.2051e+00,  2.1244e+00,  1.9839e-01,  3.7170e+00,\n",
       "          -3.9110e+00,  5.0452e+00,  7.3843e+00,  1.0169e+01,  2.0251e+00,\n",
       "           1.3139e+01,  6.2907e+00,  3.7513e+00,  1.0709e+01,  1.1058e+00,\n",
       "          -1.0728e+00,  3.6620e+00,  1.8041e+00,  9.2495e+00,  5.1624e+00,\n",
       "           9.5169e+00,  5.9359e-01,  1.7252e+00, -4.4016e+00,  3.5462e+00,\n",
       "          -4.3922e+00,  1.1904e+01,  3.1791e+00,  5.3038e+00,  2.5503e-01,\n",
       "          -9.2482e-01,  5.2461e+00,  2.7935e+00,  6.2313e-01,  2.1409e+00,\n",
       "          -1.2311e+00,  7.1389e+00, -8.1450e-02,  7.1640e+00,  4.8061e+00,\n",
       "           8.9484e+00,  1.4564e+00,  1.2212e+00,  7.4528e+00,  5.7336e+00,\n",
       "           6.6409e+00,  4.2933e+00,  5.2088e+00,  6.1117e+00,  4.8222e+00,\n",
       "           4.4093e+00,  2.2535e+00,  7.8257e+00,  1.5356e+00,  4.1069e+00,\n",
       "           2.5910e+00,  6.8764e+00,  5.7114e+00,  7.0985e+00,  3.9785e+00,\n",
       "           1.1276e+01,  3.8522e+00, -1.5956e+00, -1.3395e+00,  4.6916e+00,\n",
       "           6.3975e+00,  4.0147e+00,  8.1370e+00,  2.0185e+00,  2.1309e+00,\n",
       "           8.0761e+00, -1.7213e+00, -1.8499e-01,  1.1113e+00,  2.9800e+00,\n",
       "           5.0031e+00,  4.8364e+00,  9.0749e+00, -1.6716e+00,  9.8314e-01,\n",
       "           4.4121e+00,  2.7976e+00, -2.9400e+00,  7.1174e+00,  8.7164e+00,\n",
       "           8.9768e+00,  4.0921e+00,  9.3931e-01,  4.0629e+00,  3.3444e+00,\n",
       "           5.9598e+00,  8.6226e+00,  5.3550e+00,  2.4128e+00,  7.1576e+00,\n",
       "           6.0970e+00,  4.7633e+00,  1.7918e+01,  4.7524e+00, -1.3690e+00,\n",
       "           9.3844e+00, -6.7054e-01,  9.1068e+00,  1.7210e+00,  3.2059e+00,\n",
       "           9.0525e+00,  2.1529e+00,  3.3164e+00,  1.6409e+01,  4.7839e+00,\n",
       "           5.7189e+00,  3.5459e+00,  5.3858e+00,  2.3558e+00,  9.7482e+00,\n",
       "           5.2347e+00,  3.5985e+00,  1.5800e+00, -1.2818e+00,  7.0847e+00,\n",
       "           1.7690e+00,  4.1874e+00, -4.7609e-01,  6.7598e+00, -5.1245e+00]))}"
      ]
     },
     "execution_count": 131,
     "metadata": {},
     "output_type": "execute_result"
    }
   ],
   "source": [
    "dataset.__dict__"
   ]
  },
  {
   "cell_type": "code",
   "execution_count": 133,
   "metadata": {},
   "outputs": [
    {
     "data": {
      "text/plain": [
       "2"
      ]
     },
     "execution_count": 133,
     "metadata": {},
     "output_type": "execute_result"
    }
   ],
   "source": [
    "len(dataset.__dict__['tensors'])"
   ]
  },
  {
   "cell_type": "code",
   "execution_count": 134,
   "metadata": {},
   "outputs": [
    {
     "data": {
      "text/plain": [
       "(torch.Size([1000, 2]), torch.Size([1000]))"
      ]
     },
     "execution_count": 134,
     "metadata": {},
     "output_type": "execute_result"
    }
   ],
   "source": [
    "dataset.__dict__['tensors'][0].shape, dataset.__dict__['tensors'][1].shape"
   ]
  },
  {
   "cell_type": "markdown",
   "metadata": {},
   "source": [
    "<font color=red size=4>\n",
    "torch.utils.data.DataLoader 类返回迭代的对象\n",
    "</font>\n",
    "<br>"
   ]
  },
  {
   "cell_type": "code",
   "execution_count": 137,
   "metadata": {},
   "outputs": [
    {
     "name": "stdout",
     "output_type": "stream",
     "text": [
      "tensor([[ 1.0634, -0.6284],\n",
      "        [ 0.1999,  0.8480],\n",
      "        [ 0.0919, -0.6136],\n",
      "        [-0.1637,  1.5069],\n",
      "        [ 1.2875,  0.3135],\n",
      "        [ 0.4894, -0.8674],\n",
      "        [ 0.0925,  1.8961],\n",
      "        [ 0.6083, -0.7120],\n",
      "        [ 0.0513, -0.2475],\n",
      "        [-0.0852,  2.9050]]) \n",
      " tensor([ 8.4599,  1.7252,  6.4655, -1.2662,  5.7189,  8.1340, -2.0616,  7.8401,\n",
      "         5.1499, -5.8318])\n"
     ]
    }
   ],
   "source": [
    "for X, y in data_iter:  # batch_size 为 10\n",
    "    print(X, '\\n', y)\n",
    "    break"
   ]
  },
  {
   "cell_type": "markdown",
   "metadata": {},
   "source": [
    "### 定义模型\n",
    "\n",
    "由于 线性回归 可以看作是单层的网络模型, 可以直接定义。\n",
    "\n",
    "**但对于多层的网络, 一般会用nn.Sequential() 整合到一起。**"
   ]
  },
  {
   "cell_type": "code",
   "execution_count": 147,
   "metadata": {
    "scrolled": true
   },
   "outputs": [
    {
     "name": "stdout",
     "output_type": "stream",
     "text": [
      "LinearNet(\n",
      "  (linear): Linear(in_features=2, out_features=1, bias=True)\n",
      ")\n"
     ]
    }
   ],
   "source": [
    "class LinearNet(nn.Module):\n",
    "    def __init__(self, n_feature):  # n_feature为训练集特征数量\n",
    "        super(LinearNet, self).__init__()      # call father function to init \n",
    "        # function prototype: `torch.nn.Linear(in_features, out_features, bias=True)`\n",
    "        self.linear = nn.Linear(n_feature, 1)  \n",
    "    def forward(self, x):\n",
    "        y = self.linear(x)\n",
    "        return y\n",
    "    \n",
    "mid_net = LinearNet(num_inputs)\n",
    "print(mid_net)"
   ]
  },
  {
   "cell_type": "markdown",
   "metadata": {},
   "source": [
    "<font color=red size=4>\n",
    "查看模型（一般命名为net、model）参数\n",
    "</font>\n",
    "<br>"
   ]
  },
  {
   "cell_type": "code",
   "execution_count": 148,
   "metadata": {},
   "outputs": [
    {
     "name": "stdout",
     "output_type": "stream",
     "text": [
      "linear.weight : torch.Size([1, 2]) \n",
      " Parameter containing:\n",
      "tensor([[0.0874, 0.0100]], requires_grad=True) \n",
      "\n",
      "linear.bias : torch.Size([1]) \n",
      " Parameter containing:\n",
      "tensor([0.6165], requires_grad=True) \n",
      "\n"
     ]
    }
   ],
   "source": [
    "for name, para in mid_net.named_parameters():\n",
    "    print(name, ':', para.shape, '\\n', para, '\\n')"
   ]
  },
  {
   "cell_type": "markdown",
   "metadata": {},
   "source": [
    "### 三种方法初始化模型 - net\n",
    "\n",
    "**一般第一种方法最常用**"
   ]
  },
  {
   "cell_type": "code",
   "execution_count": 149,
   "metadata": {},
   "outputs": [
    {
     "name": "stdout",
     "output_type": "stream",
     "text": [
      "Sequential(\n",
      "  (0): Linear(in_features=2, out_features=1, bias=True)\n",
      ")\n",
      "Linear(in_features=2, out_features=1, bias=True)\n"
     ]
    }
   ],
   "source": [
    "# ways to init a multilayer network\n",
    "# method one\n",
    "net = nn.Sequential(\n",
    "    nn.Linear(num_inputs, 1)\n",
    "    # other layers can be added here\n",
    "    )\n",
    "\n",
    "\"\"\"\n",
    "# method two\n",
    "net = nn.Sequential()\n",
    "net.add_module('linear', nn.Linear(num_inputs, 1))\n",
    "# net.add_module ......\n",
    "\n",
    "# method three\n",
    "from collections import OrderedDict\n",
    "net = nn.Sequential(OrderedDict([\n",
    "          ('linear', nn.Linear(num_inputs, 1))\n",
    "          # ......\n",
    "        ]))\n",
    "\"\"\"\n",
    "\n",
    "print(net)\n",
    "print(net[0])"
   ]
  },
  {
   "cell_type": "code",
   "execution_count": 150,
   "metadata": {},
   "outputs": [
    {
     "name": "stdout",
     "output_type": "stream",
     "text": [
      "0.weight : torch.Size([1, 2]) \n",
      " Parameter containing:\n",
      "tensor([[ 0.0206, -0.3772]], requires_grad=True) \n",
      "\n",
      "0.bias : torch.Size([1]) \n",
      " Parameter containing:\n",
      "tensor([0.6080], requires_grad=True) \n",
      "\n"
     ]
    }
   ],
   "source": [
    "for name, para in net.named_parameters():\n",
    "    print(name, ':', para.shape, '\\n', para, '\\n')"
   ]
  },
  {
   "cell_type": "markdown",
   "metadata": {},
   "source": [
    "### 初始化模型参数"
   ]
  },
  {
   "cell_type": "markdown",
   "metadata": {},
   "source": [
    "<font color=red size=4>\n",
    "定义模型的时候，会初始化一遍参数。这里又初始化了一次\n",
    "</font>\n",
    "<br>"
   ]
  },
  {
   "cell_type": "code",
   "execution_count": 151,
   "metadata": {},
   "outputs": [
    {
     "data": {
      "text/plain": [
       "Parameter containing:\n",
       "tensor([0.], requires_grad=True)"
      ]
     },
     "execution_count": 151,
     "metadata": {},
     "output_type": "execute_result"
    }
   ],
   "source": [
    "from torch.nn import init\n",
    "\n",
    "init.normal_(net[0].weight, mean=0.0, std=0.01)\n",
    "init.constant_(net[0].bias, val=0.0)  # or you can use `net[0].bias.data.fill_(0)` to modify it directly"
   ]
  },
  {
   "cell_type": "code",
   "execution_count": 152,
   "metadata": {},
   "outputs": [
    {
     "name": "stdout",
     "output_type": "stream",
     "text": [
      "Parameter containing:\n",
      "tensor([[0.0181, 0.0007]], requires_grad=True)\n",
      "Parameter containing:\n",
      "tensor([0.], requires_grad=True)\n"
     ]
    }
   ],
   "source": [
    "for param in net.parameters():\n",
    "    print(param)"
   ]
  },
  {
   "cell_type": "code",
   "execution_count": 153,
   "metadata": {},
   "outputs": [
    {
     "name": "stdout",
     "output_type": "stream",
     "text": [
      "0.weight : torch.Size([1, 2]) \n",
      " Parameter containing:\n",
      "tensor([[0.0181, 0.0007]], requires_grad=True) \n",
      "\n",
      "0.bias : torch.Size([1]) \n",
      " Parameter containing:\n",
      "tensor([0.], requires_grad=True) \n",
      "\n"
     ]
    }
   ],
   "source": [
    "for name, para in net.named_parameters():\n",
    "    print(name, ':', para.shape, '\\n', para, '\\n')"
   ]
  },
  {
   "cell_type": "markdown",
   "metadata": {},
   "source": [
    "### 定义损失函数"
   ]
  },
  {
   "cell_type": "code",
   "execution_count": 157,
   "metadata": {},
   "outputs": [],
   "source": [
    "criterion = nn.MSELoss()    # nn built-in squared loss function\n",
    "                       # function prototype: `torch.nn.MSELoss(size_average=None, reduce=None, reduction='mean')`"
   ]
  },
  {
   "cell_type": "markdown",
   "metadata": {},
   "source": [
    "### 定义优化函数"
   ]
  },
  {
   "cell_type": "code",
   "execution_count": 158,
   "metadata": {},
   "outputs": [
    {
     "name": "stdout",
     "output_type": "stream",
     "text": [
      "SGD (\n",
      "Parameter Group 0\n",
      "    dampening: 0\n",
      "    lr: 0.03\n",
      "    momentum: 0\n",
      "    nesterov: False\n",
      "    weight_decay: 0\n",
      ")\n"
     ]
    }
   ],
   "source": [
    "import torch.optim as optim\n",
    "\n",
    "# function prototype: `torch.optim.SGD(params, lr=, momentum=0, dampening=0, weight_decay=0, nesterov=False)`\n",
    "optimizer = optim.SGD(net.parameters(), lr=0.03)   # built-in random gradient descent function\n",
    "\n",
    "print(optimizer)  "
   ]
  },
  {
   "cell_type": "markdown",
   "metadata": {},
   "source": [
    "### 训练"
   ]
  },
  {
   "cell_type": "code",
   "execution_count": 164,
   "metadata": {},
   "outputs": [
    {
     "name": "stdout",
     "output_type": "stream",
     "text": [
      "epoch: 1, Train Loss: 0.000094\n",
      "epoch: 2, Train Loss: 0.000095\n",
      "epoch: 3, Train Loss: 0.000095\n",
      "epoch: 4, Train Loss: 0.000094\n",
      "epoch: 5, Train Loss: 0.000095\n"
     ]
    }
   ],
   "source": [
    "num_epochs = 5\n",
    "for epoch in range(1, num_epochs + 1):\n",
    "    train_loss = 0\n",
    "    for X, y in data_iter:\n",
    "        # 前向传播\n",
    "        output = net(X)\n",
    "        loss = criterion(output, y.view(-1, 1))\n",
    "        \n",
    "        # 反向传播\n",
    "        optimizer.zero_grad() # reset gradient, equal to net.zero_grad()\n",
    "        loss.backward()\n",
    "        optimizer.step()\n",
    "        \n",
    "        train_loss += loss.item()\n",
    "\n",
    "    # 计算每个epoch 的平均loss\n",
    "    print('epoch: {}, Train Loss: {:.6f}'.format(epoch, train_loss / len(data_iter))) \n",
    "    # print('epoch %d, loss: %f' % (epoch, loss.item()))"
   ]
  },
  {
   "cell_type": "code",
   "execution_count": 165,
   "metadata": {},
   "outputs": [
    {
     "name": "stdout",
     "output_type": "stream",
     "text": [
      "[2, -3.4] tensor([[ 2.0001, -3.4001]])\n",
      "4.2 tensor([4.1995])\n"
     ]
    }
   ],
   "source": [
    "# result comparision\n",
    "dense = net[0]\n",
    "print(true_w, dense.weight.data)\n",
    "print(true_b, dense.bias.data)"
   ]
  },
  {
   "cell_type": "code",
   "execution_count": null,
   "metadata": {},
   "outputs": [],
   "source": []
  }
 ],
 "metadata": {
  "kernelspec": {
   "display_name": "Python 3",
   "language": "python",
   "name": "python3"
  },
  "language_info": {
   "codemirror_mode": {
    "name": "ipython",
    "version": 3
   },
   "file_extension": ".py",
   "mimetype": "text/x-python",
   "name": "python",
   "nbconvert_exporter": "python",
   "pygments_lexer": "ipython3",
   "version": "3.7.3"
  }
 },
 "nbformat": 4,
 "nbformat_minor": 2
}
